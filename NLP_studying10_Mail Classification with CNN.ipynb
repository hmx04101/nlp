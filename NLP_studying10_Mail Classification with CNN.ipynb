{
 "cells": [
  {
   "cell_type": "markdown",
   "id": "06cb0280-9b6b-48e8-8905-a2f8cad80aaa",
   "metadata": {},
   "source": [
    "<h2>CNN 스팸 메일 분류</h2>"
   ]
  },
  {
   "cell_type": "code",
   "execution_count": 1,
   "id": "a77cd8e0-64b5-4125-bcc3-1874a3b4fadf",
   "metadata": {},
   "outputs": [],
   "source": [
    "import numpy as np\n",
    "import pandas as pd\n",
    "import matplotlib.pyplot as plt\n",
    "plt.style.use('seaborn-white')\n",
    "\n",
    "from tensorflow.keras.preprocessing.text import Tokenizer\n",
    "from tensorflow.keras.preprocessing.sequence import pad_sequences"
   ]
  },
  {
   "cell_type": "markdown",
   "id": "c7849731-0230-4e4e-aa82-6f63eb92530c",
   "metadata": {},
   "source": [
    "<b>데이터 로드 및 전처리</b>"
   ]
  },
  {
   "cell_type": "code",
   "execution_count": 2,
   "id": "65809008-8824-4b92-9d6f-9996ce712d9f",
   "metadata": {},
   "outputs": [],
   "source": [
    "import urllib.request"
   ]
  },
  {
   "cell_type": "code",
   "execution_count": 9,
   "id": "4560f2e0-1a8d-4c61-a9c7-7ac27cff3af9",
   "metadata": {},
   "outputs": [
    {
     "data": {
      "text/html": [
       "<div>\n",
       "<style scoped>\n",
       "    .dataframe tbody tr th:only-of-type {\n",
       "        vertical-align: middle;\n",
       "    }\n",
       "\n",
       "    .dataframe tbody tr th {\n",
       "        vertical-align: top;\n",
       "    }\n",
       "\n",
       "    .dataframe thead th {\n",
       "        text-align: right;\n",
       "    }\n",
       "</style>\n",
       "<table border=\"1\" class=\"dataframe\">\n",
       "  <thead>\n",
       "    <tr style=\"text-align: right;\">\n",
       "      <th></th>\n",
       "      <th>v1</th>\n",
       "      <th>v2</th>\n",
       "      <th>Unnamed: 2</th>\n",
       "      <th>Unnamed: 3</th>\n",
       "      <th>Unnamed: 4</th>\n",
       "    </tr>\n",
       "  </thead>\n",
       "  <tbody>\n",
       "    <tr>\n",
       "      <th>0</th>\n",
       "      <td>ham</td>\n",
       "      <td>Go until jurong point, crazy.. Available only ...</td>\n",
       "      <td>NaN</td>\n",
       "      <td>NaN</td>\n",
       "      <td>NaN</td>\n",
       "    </tr>\n",
       "    <tr>\n",
       "      <th>1</th>\n",
       "      <td>ham</td>\n",
       "      <td>Ok lar... Joking wif u oni...</td>\n",
       "      <td>NaN</td>\n",
       "      <td>NaN</td>\n",
       "      <td>NaN</td>\n",
       "    </tr>\n",
       "    <tr>\n",
       "      <th>2</th>\n",
       "      <td>spam</td>\n",
       "      <td>Free entry in 2 a wkly comp to win FA Cup fina...</td>\n",
       "      <td>NaN</td>\n",
       "      <td>NaN</td>\n",
       "      <td>NaN</td>\n",
       "    </tr>\n",
       "    <tr>\n",
       "      <th>3</th>\n",
       "      <td>ham</td>\n",
       "      <td>U dun say so early hor... U c already then say...</td>\n",
       "      <td>NaN</td>\n",
       "      <td>NaN</td>\n",
       "      <td>NaN</td>\n",
       "    </tr>\n",
       "    <tr>\n",
       "      <th>4</th>\n",
       "      <td>ham</td>\n",
       "      <td>Nah I don't think he goes to usf, he lives aro...</td>\n",
       "      <td>NaN</td>\n",
       "      <td>NaN</td>\n",
       "      <td>NaN</td>\n",
       "    </tr>\n",
       "    <tr>\n",
       "      <th>...</th>\n",
       "      <td>...</td>\n",
       "      <td>...</td>\n",
       "      <td>...</td>\n",
       "      <td>...</td>\n",
       "      <td>...</td>\n",
       "    </tr>\n",
       "    <tr>\n",
       "      <th>5567</th>\n",
       "      <td>spam</td>\n",
       "      <td>This is the 2nd time we have tried 2 contact u...</td>\n",
       "      <td>NaN</td>\n",
       "      <td>NaN</td>\n",
       "      <td>NaN</td>\n",
       "    </tr>\n",
       "    <tr>\n",
       "      <th>5568</th>\n",
       "      <td>ham</td>\n",
       "      <td>Will Ì_ b going to esplanade fr home?</td>\n",
       "      <td>NaN</td>\n",
       "      <td>NaN</td>\n",
       "      <td>NaN</td>\n",
       "    </tr>\n",
       "    <tr>\n",
       "      <th>5569</th>\n",
       "      <td>ham</td>\n",
       "      <td>Pity, * was in mood for that. So...any other s...</td>\n",
       "      <td>NaN</td>\n",
       "      <td>NaN</td>\n",
       "      <td>NaN</td>\n",
       "    </tr>\n",
       "    <tr>\n",
       "      <th>5570</th>\n",
       "      <td>ham</td>\n",
       "      <td>The guy did some bitching but I acted like i'd...</td>\n",
       "      <td>NaN</td>\n",
       "      <td>NaN</td>\n",
       "      <td>NaN</td>\n",
       "    </tr>\n",
       "    <tr>\n",
       "      <th>5571</th>\n",
       "      <td>ham</td>\n",
       "      <td>Rofl. Its true to its name</td>\n",
       "      <td>NaN</td>\n",
       "      <td>NaN</td>\n",
       "      <td>NaN</td>\n",
       "    </tr>\n",
       "  </tbody>\n",
       "</table>\n",
       "<p>5572 rows × 5 columns</p>\n",
       "</div>"
      ],
      "text/plain": [
       "        v1                                                 v2 Unnamed: 2  \\\n",
       "0      ham  Go until jurong point, crazy.. Available only ...        NaN   \n",
       "1      ham                      Ok lar... Joking wif u oni...        NaN   \n",
       "2     spam  Free entry in 2 a wkly comp to win FA Cup fina...        NaN   \n",
       "3      ham  U dun say so early hor... U c already then say...        NaN   \n",
       "4      ham  Nah I don't think he goes to usf, he lives aro...        NaN   \n",
       "...    ...                                                ...        ...   \n",
       "5567  spam  This is the 2nd time we have tried 2 contact u...        NaN   \n",
       "5568   ham              Will Ì_ b going to esplanade fr home?        NaN   \n",
       "5569   ham  Pity, * was in mood for that. So...any other s...        NaN   \n",
       "5570   ham  The guy did some bitching but I acted like i'd...        NaN   \n",
       "5571   ham                         Rofl. Its true to its name        NaN   \n",
       "\n",
       "     Unnamed: 3 Unnamed: 4  \n",
       "0           NaN        NaN  \n",
       "1           NaN        NaN  \n",
       "2           NaN        NaN  \n",
       "3           NaN        NaN  \n",
       "4           NaN        NaN  \n",
       "...         ...        ...  \n",
       "5567        NaN        NaN  \n",
       "5568        NaN        NaN  \n",
       "5569        NaN        NaN  \n",
       "5570        NaN        NaN  \n",
       "5571        NaN        NaN  \n",
       "\n",
       "[5572 rows x 5 columns]"
      ]
     },
     "execution_count": 9,
     "metadata": {},
     "output_type": "execute_result"
    }
   ],
   "source": [
    "urllib.request.urlretrieve(\"https://raw.githubusercontent.com/mohitgupta-omg/Kaggle-SMS-Spam-Collection-Dataset-/master/spam.csv\", filename = 'spam.csv')\n",
    "data = pd.read_csv('spam.csv', encoding = 'latin-1')\n",
    "data"
   ]
  },
  {
   "cell_type": "code",
   "execution_count": 10,
   "id": "9358d75d-9811-4663-9d27-7148fb623faf",
   "metadata": {},
   "outputs": [
    {
     "data": {
      "text/plain": [
       "Index(['v1', 'v2', 'Unnamed: 2', 'Unnamed: 3', 'Unnamed: 4'], dtype='object')"
      ]
     },
     "execution_count": 10,
     "metadata": {},
     "output_type": "execute_result"
    }
   ],
   "source": [
    "data.columns"
   ]
  },
  {
   "cell_type": "code",
   "execution_count": 11,
   "id": "12097b2d-4081-430f-901d-548d27fbcf7a",
   "metadata": {},
   "outputs": [
    {
     "name": "stderr",
     "output_type": "stream",
     "text": [
      "<ipython-input-11-805e9fd7cc17>:2: SettingWithCopyWarning: \n",
      "A value is trying to be set on a copy of a slice from a DataFrame.\n",
      "Try using .loc[row_indexer,col_indexer] = value instead\n",
      "\n",
      "See the caveats in the documentation: https://pandas.pydata.org/pandas-docs/stable/user_guide/indexing.html#returning-a-view-versus-a-copy\n",
      "  data['v1'] = data['v1'].replace(['ham','spam'], [0,1])\n"
     ]
    },
    {
     "data": {
      "text/html": [
       "<div>\n",
       "<style scoped>\n",
       "    .dataframe tbody tr th:only-of-type {\n",
       "        vertical-align: middle;\n",
       "    }\n",
       "\n",
       "    .dataframe tbody tr th {\n",
       "        vertical-align: top;\n",
       "    }\n",
       "\n",
       "    .dataframe thead th {\n",
       "        text-align: right;\n",
       "    }\n",
       "</style>\n",
       "<table border=\"1\" class=\"dataframe\">\n",
       "  <thead>\n",
       "    <tr style=\"text-align: right;\">\n",
       "      <th></th>\n",
       "      <th>v1</th>\n",
       "      <th>v2</th>\n",
       "    </tr>\n",
       "  </thead>\n",
       "  <tbody>\n",
       "    <tr>\n",
       "      <th>0</th>\n",
       "      <td>0</td>\n",
       "      <td>Go until jurong point, crazy.. Available only ...</td>\n",
       "    </tr>\n",
       "    <tr>\n",
       "      <th>1</th>\n",
       "      <td>0</td>\n",
       "      <td>Ok lar... Joking wif u oni...</td>\n",
       "    </tr>\n",
       "    <tr>\n",
       "      <th>2</th>\n",
       "      <td>1</td>\n",
       "      <td>Free entry in 2 a wkly comp to win FA Cup fina...</td>\n",
       "    </tr>\n",
       "    <tr>\n",
       "      <th>3</th>\n",
       "      <td>0</td>\n",
       "      <td>U dun say so early hor... U c already then say...</td>\n",
       "    </tr>\n",
       "    <tr>\n",
       "      <th>4</th>\n",
       "      <td>0</td>\n",
       "      <td>Nah I don't think he goes to usf, he lives aro...</td>\n",
       "    </tr>\n",
       "    <tr>\n",
       "      <th>5</th>\n",
       "      <td>1</td>\n",
       "      <td>FreeMsg Hey there darling it's been 3 week's n...</td>\n",
       "    </tr>\n",
       "    <tr>\n",
       "      <th>6</th>\n",
       "      <td>0</td>\n",
       "      <td>Even my brother is not like to speak with me. ...</td>\n",
       "    </tr>\n",
       "    <tr>\n",
       "      <th>7</th>\n",
       "      <td>0</td>\n",
       "      <td>As per your request 'Melle Melle (Oru Minnamin...</td>\n",
       "    </tr>\n",
       "    <tr>\n",
       "      <th>8</th>\n",
       "      <td>1</td>\n",
       "      <td>WINNER!! As a valued network customer you have...</td>\n",
       "    </tr>\n",
       "    <tr>\n",
       "      <th>9</th>\n",
       "      <td>1</td>\n",
       "      <td>Had your mobile 11 months or more? U R entitle...</td>\n",
       "    </tr>\n",
       "  </tbody>\n",
       "</table>\n",
       "</div>"
      ],
      "text/plain": [
       "   v1                                                 v2\n",
       "0   0  Go until jurong point, crazy.. Available only ...\n",
       "1   0                      Ok lar... Joking wif u oni...\n",
       "2   1  Free entry in 2 a wkly comp to win FA Cup fina...\n",
       "3   0  U dun say so early hor... U c already then say...\n",
       "4   0  Nah I don't think he goes to usf, he lives aro...\n",
       "5   1  FreeMsg Hey there darling it's been 3 week's n...\n",
       "6   0  Even my brother is not like to speak with me. ...\n",
       "7   0  As per your request 'Melle Melle (Oru Minnamin...\n",
       "8   1  WINNER!! As a valued network customer you have...\n",
       "9   1  Had your mobile 11 months or more? U R entitle..."
      ]
     },
     "execution_count": 11,
     "metadata": {},
     "output_type": "execute_result"
    }
   ],
   "source": [
    "data = data[['v1', 'v2']]\n",
    "data['v1'] = data['v1'].replace(['ham','spam'], [0,1])\n",
    "data.head(10)"
   ]
  },
  {
   "cell_type": "code",
   "execution_count": 12,
   "id": "4ee82f1b-d546-46fd-bbdc-3acbfd6b059c",
   "metadata": {},
   "outputs": [
    {
     "name": "stderr",
     "output_type": "stream",
     "text": [
      "<ipython-input-12-f2362eb90665>:1: SettingWithCopyWarning: \n",
      "A value is trying to be set on a copy of a slice from a DataFrame\n",
      "\n",
      "See the caveats in the documentation: https://pandas.pydata.org/pandas-docs/stable/user_guide/indexing.html#returning-a-view-versus-a-copy\n",
      "  data.drop_duplicates(subset = ['v2'], inplace = True)\n"
     ]
    },
    {
     "data": {
      "text/plain": [
       "5169"
      ]
     },
     "execution_count": 12,
     "metadata": {},
     "output_type": "execute_result"
    }
   ],
   "source": [
    "data.drop_duplicates(subset = ['v2'], inplace = True)\n",
    "len(data)"
   ]
  },
  {
   "cell_type": "code",
   "execution_count": 14,
   "id": "e903c551-bc4a-4ac3-a625-2a8814666ca9",
   "metadata": {},
   "outputs": [
    {
     "data": {
      "image/png": "[encoded data removed]",
      "text/plain": [
       "<Figure size 432x288 with 1 Axes>"
      ]
     },
     "metadata": {},
     "output_type": "display_data"
    }
   ],
   "source": [
    "data['v1'].value_counts().plot(kind='bar');"
   ]
  },
  {
   "cell_type": "code",
   "execution_count": 15,
   "id": "6fd5cb3a-c5f0-4546-a8de-c5e1e5b27402",
   "metadata": {},
   "outputs": [
    {
     "data": {
      "text/html": [
       "<div>\n",
       "<style scoped>\n",
       "    .dataframe tbody tr th:only-of-type {\n",
       "        vertical-align: middle;\n",
       "    }\n",
       "\n",
       "    .dataframe tbody tr th {\n",
       "        vertical-align: top;\n",
       "    }\n",
       "\n",
       "    .dataframe thead th {\n",
       "        text-align: right;\n",
       "    }\n",
       "</style>\n",
       "<table border=\"1\" class=\"dataframe\">\n",
       "  <thead>\n",
       "    <tr style=\"text-align: right;\">\n",
       "      <th></th>\n",
       "      <th>v1</th>\n",
       "      <th>count</th>\n",
       "    </tr>\n",
       "  </thead>\n",
       "  <tbody>\n",
       "    <tr>\n",
       "      <th>0</th>\n",
       "      <td>0</td>\n",
       "      <td>4516</td>\n",
       "    </tr>\n",
       "    <tr>\n",
       "      <th>1</th>\n",
       "      <td>1</td>\n",
       "      <td>653</td>\n",
       "    </tr>\n",
       "  </tbody>\n",
       "</table>\n",
       "</div>"
      ],
      "text/plain": [
       "   v1  count\n",
       "0   0   4516\n",
       "1   1    653"
      ]
     },
     "execution_count": 15,
     "metadata": {},
     "output_type": "execute_result"
    }
   ],
   "source": [
    "data.groupby('v1').size().reset_index(name = 'count')"
   ]
  },
  {
   "cell_type": "code",
   "execution_count": 16,
   "id": "8bde8183-919b-4b6d-aa46-75bd7b854003",
   "metadata": {},
   "outputs": [],
   "source": [
    "x_data = data['v2']\n",
    "y_data = data['v1']"
   ]
  },
  {
   "cell_type": "code",
   "execution_count": 17,
   "id": "919f218d-7f11-42ea-b913-b5ece5a2d555",
   "metadata": {},
   "outputs": [
    {
     "data": {
      "text/plain": [
       "[[47, 433, 780, 705, 662, 64, 8, 94, 121, 434, 142, 68, 57, 137],\n",
       " [49, 306, 435, 6]]"
      ]
     },
     "execution_count": 17,
     "metadata": {},
     "output_type": "execute_result"
    }
   ],
   "source": [
    "vocab_size = 1000\n",
    "tokenizer = Tokenizer(num_words = vocab_size)\n",
    "tokenizer.fit_on_texts(x_data)\n",
    "sequences = tokenizer.texts_to_sequences(x_data)\n",
    "sequences[:2]"
   ]
  },
  {
   "cell_type": "code",
   "execution_count": 21,
   "id": "3281cce8-cf6e-44c4-9bc7-ffb917d2e400",
   "metadata": {},
   "outputs": [
    {
     "name": "stdout",
     "output_type": "stream",
     "text": [
      "메일 최대 길이: 172\n",
      "메일 평균 길이: 12.566840781582512\n"
     ]
    }
   ],
   "source": [
    "x_data = sequences\n",
    "\n",
    "print('메일 최대 길이: {}'.format(max(len(l) for l in x_data)))\n",
    "print('메일 평균 길이: {}'.format((sum(map(len, x_data)) / len(x_data) )))"
   ]
  },
  {
   "cell_type": "code",
   "execution_count": 22,
   "id": "e9107663-e1cd-4d73-8e29-7b8e751454fc",
   "metadata": {},
   "outputs": [
    {
     "data": {
      "image/png": "[encoded data removed]",
      "text/plain": [
       "<Figure size 432x288 with 1 Axes>"
      ]
     },
     "metadata": {},
     "output_type": "display_data"
    }
   ],
   "source": [
    "plt.hist([len(s) for s in x_data], bins = 50)\n",
    "plt.xlabel('Length of Samples')\n",
    "plt.ylabel('Number of Samples')\n",
    "plt.show()"
   ]
  },
  {
   "cell_type": "code",
   "execution_count": 23,
   "id": "89717d48-9712-443d-8756-b404c14c6746",
   "metadata": {},
   "outputs": [
    {
     "name": "stdout",
     "output_type": "stream",
     "text": [
      "(5169, 60)\n"
     ]
    }
   ],
   "source": [
    "max_len = 60\n",
    "data = pad_sequences(x_data, maxlen = max_len)\n",
    "print(data.shape)"
   ]
  },
  {
   "cell_type": "code",
   "execution_count": 24,
   "id": "523769f5-bafa-4a61-abb4-a87935450d1a",
   "metadata": {},
   "outputs": [
    {
     "name": "stdout",
     "output_type": "stream",
     "text": [
      "4135\n",
      "1034\n"
     ]
    }
   ],
   "source": [
    "n_train = int(len(sequences) * 0.8)\n",
    "n_test = int(len(sequences) - n_train)\n",
    "\n",
    "print(n_train)\n",
    "print(n_test)"
   ]
  },
  {
   "cell_type": "code",
   "execution_count": 25,
   "id": "bebc1d21-224f-4750-9856-4a2855b25fa9",
   "metadata": {},
   "outputs": [
    {
     "name": "stdout",
     "output_type": "stream",
     "text": [
      "(4135, 60)\n",
      "(4135,)\n",
      "(1034, 60)\n",
      "(1034,)\n"
     ]
    }
   ],
   "source": [
    "x_train = data[:n_train]\n",
    "y_train = np.array(y_data[:n_train])\n",
    "x_test = data[n_train:]\n",
    "y_test = np.array(y_data[n_train:])\n",
    "\n",
    "print(x_train.shape)\n",
    "print(y_train.shape)\n",
    "print(x_test.shape)\n",
    "print(y_test.shape)"
   ]
  },
  {
   "cell_type": "markdown",
   "id": "7fb2db5d-4957-40d2-aed4-052b7909a019",
   "metadata": {},
   "source": [
    "<b>모델 구성</b>"
   ]
  },
  {
   "cell_type": "code",
   "execution_count": 28,
   "id": "9664d48f-4347-43ab-9f29-85e370a6f80b",
   "metadata": {},
   "outputs": [],
   "source": [
    "from tensorflow.keras.layers import Dense, Conv1D, GlobalMaxPooling1D, Embedding, Dropout, MaxPooling1D\n",
    "from tensorflow.keras.models import Sequential\n",
    "from tensorflow.keras.callbacks import EarlyStopping, ModelCheckpoint"
   ]
  },
  {
   "cell_type": "code",
   "execution_count": 29,
   "id": "4d4a856d-a8d8-4eb7-bea0-7c051b2af3ac",
   "metadata": {},
   "outputs": [
    {
     "name": "stdout",
     "output_type": "stream",
     "text": [
      "Model: \"sequential\"\n",
      "_________________________________________________________________\n",
      "Layer (type)                 Output Shape              Param #   \n",
      "=================================================================\n",
      "embedding (Embedding)        (None, None, 32)          32000     \n",
      "_________________________________________________________________\n",
      "dropout (Dropout)            (None, None, 32)          0         \n",
      "_________________________________________________________________\n",
      "conv1d (Conv1D)              (None, None, 32)          5152      \n",
      "_________________________________________________________________\n",
      "global_max_pooling1d (Global (None, 32)                0         \n",
      "_________________________________________________________________\n",
      "dense (Dense)                (None, 64)                2112      \n",
      "_________________________________________________________________\n",
      "dropout_1 (Dropout)          (None, 64)                0         \n",
      "_________________________________________________________________\n",
      "dense_1 (Dense)              (None, 1)                 65        \n",
      "=================================================================\n",
      "Total params: 39,329\n",
      "Trainable params: 39,329\n",
      "Non-trainable params: 0\n",
      "_________________________________________________________________\n"
     ]
    }
   ],
   "source": [
    "model = Sequential()\n",
    "model.add(Embedding(vocab_size, 32))\n",
    "model.add(Dropout(0.2))\n",
    "model.add(Conv1D(32, 5, strides = 1, padding = 'valid', activation = 'relu'))\n",
    "model.add(GlobalMaxPooling1D())\n",
    "model.add(Dense(64, activation = 'relu'))\n",
    "model.add(Dropout(0.2))\n",
    "model.add(Dense(1, activation = 'sigmoid'))\n",
    "model.summary()\n",
    "\n",
    "model.compile(optimizer = 'adam',\n",
    "             loss = 'binary_crossentropy',\n",
    "             metrics = ['acc'])"
   ]
  },
  {
   "cell_type": "code",
   "execution_count": 30,
   "id": "40f8d80f-fc11-4e17-a98f-39d1716a9d34",
   "metadata": {},
   "outputs": [],
   "source": [
    "es = EarlyStopping(monitor = 'val_loss', mode = 'min', verbose = 1, patience = 3)\n",
    "mc = ModelCheckpoint('best_model.h5', monitor = 'val_acc', mode = 'max', verbose = 1, save_best_only = True)"
   ]
  },
  {
   "cell_type": "markdown",
   "id": "26017d07-8fc7-4a85-a90d-c4dbc31d927c",
   "metadata": {},
   "source": [
    "<b>모델 학습</b>"
   ]
  },
  {
   "cell_type": "code",
   "execution_count": 31,
   "id": "c2eb8e8e-4e9d-4374-b67f-9b750ed33a5b",
   "metadata": {},
   "outputs": [
    {
     "name": "stdout",
     "output_type": "stream",
     "text": [
      "Epoch 1/10\n",
      "52/52 [==============================] - 2s 16ms/step - loss: 0.4616 - acc: 0.8691 - val_loss: 0.4013 - val_acc: 0.8730\n",
      "\n",
      "Epoch 00001: val_acc improved from -inf to 0.87304, saving model to best_model.h5\n",
      "Epoch 2/10\n",
      "52/52 [==============================] - 1s 10ms/step - loss: 0.3803 - acc: 0.8697 - val_loss: 0.3615 - val_acc: 0.8730\n",
      "\n",
      "Epoch 00002: val_acc did not improve from 0.87304\n",
      "Epoch 3/10\n",
      "52/52 [==============================] - 1s 13ms/step - loss: 0.2444 - acc: 0.9018 - val_loss: 0.1205 - val_acc: 0.9625\n",
      "\n",
      "Epoch 00003: val_acc improved from 0.87304 to 0.96252, saving model to best_model.h5\n",
      "Epoch 4/10\n",
      "52/52 [==============================] - 0s 9ms/step - loss: 0.0750 - acc: 0.9810 - val_loss: 0.0572 - val_acc: 0.9831\n",
      "\n",
      "Epoch 00004: val_acc improved from 0.96252 to 0.98307, saving model to best_model.h5\n",
      "Epoch 5/10\n",
      "52/52 [==============================] - 0s 9ms/step - loss: 0.0398 - acc: 0.9882 - val_loss: 0.0492 - val_acc: 0.9819\n",
      "\n",
      "Epoch 00005: val_acc did not improve from 0.98307\n",
      "Epoch 6/10\n",
      "52/52 [==============================] - 1s 11ms/step - loss: 0.0276 - acc: 0.9912 - val_loss: 0.0469 - val_acc: 0.9794\n",
      "\n",
      "Epoch 00006: val_acc did not improve from 0.98307\n",
      "Epoch 7/10\n",
      "52/52 [==============================] - 0s 10ms/step - loss: 0.0185 - acc: 0.9946 - val_loss: 0.0478 - val_acc: 0.9819\n",
      "\n",
      "Epoch 00007: val_acc did not improve from 0.98307\n",
      "Epoch 8/10\n",
      "52/52 [==============================] - 1s 10ms/step - loss: 0.0123 - acc: 0.9970 - val_loss: 0.0497 - val_acc: 0.9794\n",
      "\n",
      "Epoch 00008: val_acc did not improve from 0.98307\n",
      "Epoch 9/10\n",
      "52/52 [==============================] - 1s 14ms/step - loss: 0.0091 - acc: 0.9985 - val_loss: 0.0518 - val_acc: 0.9782\n",
      "\n",
      "Epoch 00009: val_acc did not improve from 0.98307\n",
      "Epoch 00009: early stopping\n"
     ]
    }
   ],
   "source": [
    "history = model.fit(x_train, y_train,\n",
    "                   epochs = 10,\n",
    "                   batch_size = 64,\n",
    "                   validation_split = 0.2,\n",
    "                   callbacks = [es, mc])"
   ]
  },
  {
   "cell_type": "markdown",
   "id": "e4fde386-e84f-4ba5-8a96-d7e7e711478d",
   "metadata": {},
   "source": [
    "<b>시각화</b>"
   ]
  },
  {
   "cell_type": "code",
   "execution_count": 33,
   "id": "00082ec3-6ad2-4b39-b6ed-efcf48d4754e",
   "metadata": {},
   "outputs": [
    {
     "data": {
      "image/png": "[encoded data removed]",
      "text/plain": [
       "<Figure size 432x288 with 1 Axes>"
      ]
     },
     "metadata": {},
     "output_type": "display_data"
    },
    {
     "data": {
      "image/png": "[encoded data removed]",
      "text/plain": [
       "<Figure size 432x288 with 1 Axes>"
      ]
     },
     "metadata": {},
     "output_type": "display_data"
    }
   ],
   "source": [
    "loss = history.history['loss']\n",
    "val_loss = history.history['val_loss']\n",
    "acc = history.history['acc']\n",
    "val_acc = history.history['val_acc']\n",
    "\n",
    "epochs = range(1, len(loss) + 1)\n",
    "\n",
    "plt.plot(epochs, loss, 'b--', label = 'training loss')\n",
    "plt.plot(epochs, val_loss, 'r:', label = 'validation loss')\n",
    "plt.grid()\n",
    "plt.legend()\n",
    "\n",
    "plt.figure()\n",
    "plt.plot(epochs, acc, 'b--', label = 'training accuracy')\n",
    "plt.plot(epochs, val_acc, 'r:', label = 'validation accuracy')\n",
    "plt.grid()\n",
    "plt.legend()\n",
    "\n",
    "plt.show()"
   ]
  },
  {
   "cell_type": "code",
   "execution_count": 35,
   "id": "4c6e0643-6a91-4714-9283-b1f346e923eb",
   "metadata": {},
   "outputs": [
    {
     "name": "stdout",
     "output_type": "stream",
     "text": [
      "33/33 [==============================] - 0s 2ms/step - loss: 0.0647 - acc: 0.9797\n"
     ]
    },
    {
     "data": {
      "text/plain": [
       "[0.06472855806350708, 0.9796905517578125]"
      ]
     },
     "execution_count": 35,
     "metadata": {},
     "output_type": "execute_result"
    }
   ],
   "source": [
    "model.evaluate(x_test, y_test)"
   ]
  }
 ],
 "metadata": {
  "kernelspec": {
   "display_name": "Python 3",
   "language": "python",
   "name": "python3"
  },
  "language_info": {
   "codemirror_mode": {
    "name": "ipython",
    "version": 3
   },
   "file_extension": ".py",
   "mimetype": "text/x-python",
   "name": "python",
   "nbconvert_exporter": "python",
   "pygments_lexer": "ipython3",
   "version": "3.9.4"
  }
 },
 "nbformat": 4,
 "nbformat_minor": 5
}
