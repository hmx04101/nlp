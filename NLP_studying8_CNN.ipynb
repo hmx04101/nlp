{
 "cells": [
  {
   "cell_type": "markdown",
   "id": "9efafb45-ee51-4176-b683-fab692417ffb",
   "metadata": {},
   "source": [
    "<h2>합성곱 신경망(Convolution Network, RNN)</h2>\n",
    "<b>(특히)이미지 인식, 음성 인식에 자주 사용됨</b><br>"
   ]
  },
  {
   "cell_type": "markdown",
   "id": "a1bb6edf-d6ba-4199-b870-7c0b3c182ba5",
   "metadata": {},
   "source": [
    "<h2>합성곱 연산</h2>\n",
    "<b>필터(Filter) 연산</b><br>\n",
    "<b>필터에 대응하는 원소끼리 곱하고, 그 합을 구함</b><br>\n",
    "<b>연산 완료된 결과 데이터를 특징 맵(Feature map)이라 부름</b><br><br>\n",
    "<b>필터(Filter) - 커널(kernel) 이라고도 칭함 </b><br>\n",
    "<b>사진 어플의 '이미지 필터와' 비슷한 개념 </b><br>\n",
    "<b>필터 사이즈는 '홀수', 짝수시 패딩이 비대칭, 오른쪽 왼쪽을 다르게 주어야함</b><br>\n",
    "<b>합성곱 연산 후의 데이터 사이즈 = (n-f+1)x(n-f+1) , ㅡn:입력 데이터 크기, f:필터(커널) 크기</b><br>\n",
    "\n",
    "\n",
    "<b>valid - 패딩을 주지 않음, padding=0 은 0으로 채워진 테두리가 아닌 패딩 주지 않는다는 의미 </b><br>\n",
    "<b>same - 패딩을 주어 이미지 크기와 연산후 크기 이미지를 같게 함, p = (k-1)/2, 단 stride=1, p: 패딩의 크기, k:필터(커널)의 크기  </b><br>\n",
    "<b>스트라이드(Stride)- 필터를 적용하는 간격 의미 </b><br>\n",
    "<b>풀링(Pooling) - 필터(커널) 사이즈 내에서 특정 값 추출하는 과정 </b><br>\n",
    "<b>맥스 풀링(Max Pooling) - 가장 많이 사용되는 방법, 출력 데이터 사이즈 계산은 컨볼루션 연산과 동일 </b><br>"
   ]
  },
  {
   "cell_type": "markdown",
   "id": "3573d0b7-6b7e-408a-abb8-0c574e00adef",
   "metadata": {},
   "source": [
    "<h2>Conv1D</h2>\n",
    "<b>텍스트 분류나 시계열 예측 같은 간단한 문제, 오디오 생성, 기계 번역 등의 문제에서 좋은 성능</b><br>\n",
    "<b>타입스텝의 순서에 민감하지 않음 </b><br>\n",
    "<b>2D Convolution, 지역적 특징을 인식 </b><br>\n",
    "<b>1D Convolution, 문맥을 인식 </b><br>"
   ]
  },
  {
   "cell_type": "markdown",
   "id": "d26dae3a-bd09-4fee-a5e5-befa81b90556",
   "metadata": {},
   "source": [
    "<b>IMDB 데이터 로드 및 전처리</b>"
   ]
  },
  {
   "cell_type": "code",
   "execution_count": 1,
   "id": "78de9047-cebc-4b1f-8277-eab7ab7abe20",
   "metadata": {},
   "outputs": [],
   "source": [
    "from tensorflow.keras.datasets import imdb\n",
    "from tensorflow.keras.preprocessing.sequence import pad_sequences\n",
    "from tensorflow.keras.models import Sequential\n",
    "from tensorflow.keras.optimizers import RMSprop\n",
    "from tensorflow.keras.layers import Dense, Embedding, Conv1D, MaxPooling1D, GlobalMaxPooling1D"
   ]
  },
  {
   "cell_type": "code",
   "execution_count": 3,
   "id": "d09ab5b0-c259-490e-abaf-9cfeb43d7a8c",
   "metadata": {},
   "outputs": [
    {
     "name": "stdout",
     "output_type": "stream",
     "text": [
      "25000\n",
      "25000\n"
     ]
    }
   ],
   "source": [
    "num_words = 10000\n",
    "max_len = 500\n",
    "batche_size = 32\n",
    "\n",
    "(input_train, y_train) , (input_test, y_test) = imdb.load_data(num_words = num_words)\n",
    "\n",
    "print(len(input_train))\n",
    "print(len(input_test))"
   ]
  },
  {
   "cell_type": "code",
   "execution_count": 6,
   "id": "fca29181-b165-42e8-a30b-37aa369e242f",
   "metadata": {},
   "outputs": [
    {
     "name": "stdout",
     "output_type": "stream",
     "text": [
      "(25000, 500)\n",
      "(25000, 500)\n"
     ]
    }
   ],
   "source": [
    "pad_x_train = pad_sequences(input_train, maxlen = max_len)\n",
    "pad_x_test = pad_sequences(input_test, maxlen = max_len)\n",
    "\n",
    "print(pad_x_train.shape)\n",
    "print(pad_x_test.shape)"
   ]
  },
  {
   "cell_type": "markdown",
   "id": "afc1c9d4-148e-474b-8600-3dce5f8e80d0",
   "metadata": {},
   "source": [
    "<b>모델 구성</b>"
   ]
  },
  {
   "cell_type": "code",
   "execution_count": 12,
   "id": "b7f6a4f6-ee75-4ed5-9e2e-1d49537ab884",
   "metadata": {},
   "outputs": [],
   "source": [
    "def build_model():\n",
    "    model = Sequential()\n",
    "    \n",
    "    model.add(Embedding(input_dim = num_words, output_dim = 32, input_length = max_len))\n",
    "    model.add(Conv1D(32, 7, activation = 'relu'))\n",
    "    model.add(MaxPooling1D(7))\n",
    "    model.add(Conv1D(32, 5, activation = 'relu'))\n",
    "    model.add(MaxPooling1D(5))\n",
    "    model.add(GlobalMaxPooling1D())\n",
    "    model.add(Dense(1, activation = 'sigmoid'))\n",
    "    \n",
    "    model.compile(optimizer = RMSprop(learning_rate = 1e-4),\n",
    "                 loss = 'binary_crossentropy',\n",
    "                 metrics = ['accuracy'])\n",
    "    \n",
    "    return model"
   ]
  },
  {
   "cell_type": "code",
   "execution_count": 13,
   "id": "355ed2d3-916d-471f-bb0a-a99c7f2f29c8",
   "metadata": {},
   "outputs": [
    {
     "name": "stdout",
     "output_type": "stream",
     "text": [
      "Model: \"sequential_2\"\n",
      "_________________________________________________________________\n",
      "Layer (type)                 Output Shape              Param #   \n",
      "=================================================================\n",
      "embedding_1 (Embedding)      (None, 500, 32)           320000    \n",
      "_________________________________________________________________\n",
      "conv1d_2 (Conv1D)            (None, 494, 32)           7200      \n",
      "_________________________________________________________________\n",
      "max_pooling1d_2 (MaxPooling1 (None, 70, 32)            0         \n",
      "_________________________________________________________________\n",
      "conv1d_3 (Conv1D)            (None, 66, 32)            5152      \n",
      "_________________________________________________________________\n",
      "max_pooling1d_3 (MaxPooling1 (None, 13, 32)            0         \n",
      "_________________________________________________________________\n",
      "global_max_pooling1d_1 (Glob (None, 32)                0         \n",
      "_________________________________________________________________\n",
      "dense_1 (Dense)              (None, 1)                 33        \n",
      "=================================================================\n",
      "Total params: 332,385\n",
      "Trainable params: 332,385\n",
      "Non-trainable params: 0\n",
      "_________________________________________________________________\n"
     ]
    }
   ],
   "source": [
    "model = build_model()\n",
    "model.summary()"
   ]
  },
  {
   "cell_type": "markdown",
   "id": "f77ae1ae-2162-4fb0-8340-1f5e1edfdac6",
   "metadata": {},
   "source": [
    "<b>모델 학습</b>"
   ]
  },
  {
   "cell_type": "code",
   "execution_count": 14,
   "id": "744120ac-1881-41fc-b031-41e18c070841",
   "metadata": {},
   "outputs": [
    {
     "name": "stdout",
     "output_type": "stream",
     "text": [
      "Epoch 1/30\n",
      "157/157 [==============================] - 17s 100ms/step - loss: 0.6929 - accuracy: 0.5123 - val_loss: 0.6924 - val_accuracy: 0.5318\n",
      "Epoch 2/30\n",
      "157/157 [==============================] - 15s 96ms/step - loss: 0.6908 - accuracy: 0.5872 - val_loss: 0.6914 - val_accuracy: 0.5790\n",
      "Epoch 3/30\n",
      "157/157 [==============================] - 15s 96ms/step - loss: 0.6881 - accuracy: 0.6521 - val_loss: 0.6886 - val_accuracy: 0.6798\n",
      "Epoch 4/30\n",
      "157/157 [==============================] - 19s 118ms/step - loss: 0.6826 - accuracy: 0.7372 - val_loss: 0.6809 - val_accuracy: 0.6854\n",
      "Epoch 5/30\n",
      "157/157 [==============================] - 16s 101ms/step - loss: 0.6682 - accuracy: 0.7691 - val_loss: 0.6568 - val_accuracy: 0.7724\n",
      "Epoch 6/30\n",
      "157/157 [==============================] - 17s 105ms/step - loss: 0.6302 - accuracy: 0.7992 - val_loss: 0.6029 - val_accuracy: 0.7984\n",
      "Epoch 7/30\n",
      "157/157 [==============================] - 18s 113ms/step - loss: 0.5569 - accuracy: 0.8179 - val_loss: 0.5186 - val_accuracy: 0.8152\n",
      "Epoch 8/30\n",
      "157/157 [==============================] - 16s 103ms/step - loss: 0.4651 - accuracy: 0.8367 - val_loss: 0.4375 - val_accuracy: 0.8330\n",
      "Epoch 9/30\n",
      "157/157 [==============================] - 16s 100ms/step - loss: 0.3906 - accuracy: 0.8547 - val_loss: 0.3873 - val_accuracy: 0.8444\n",
      "Epoch 10/30\n",
      "157/157 [==============================] - 16s 99ms/step - loss: 0.3410 - accuracy: 0.8668 - val_loss: 0.3581 - val_accuracy: 0.8518\n",
      "Epoch 11/30\n",
      "157/157 [==============================] - 16s 105ms/step - loss: 0.3091 - accuracy: 0.8773 - val_loss: 0.3433 - val_accuracy: 0.8568\n",
      "Epoch 12/30\n",
      "157/157 [==============================] - 16s 105ms/step - loss: 0.2862 - accuracy: 0.8848 - val_loss: 0.3336 - val_accuracy: 0.8574\n",
      "Epoch 13/30\n",
      "157/157 [==============================] - 17s 109ms/step - loss: 0.2675 - accuracy: 0.8936 - val_loss: 0.3286 - val_accuracy: 0.8600\n",
      "Epoch 14/30\n",
      "157/157 [==============================] - 16s 103ms/step - loss: 0.2519 - accuracy: 0.9001 - val_loss: 0.3280 - val_accuracy: 0.8626\n",
      "Epoch 15/30\n",
      "157/157 [==============================] - 17s 110ms/step - loss: 0.2390 - accuracy: 0.9065 - val_loss: 0.3239 - val_accuracy: 0.8630\n",
      "Epoch 16/30\n",
      "157/157 [==============================] - 17s 108ms/step - loss: 0.2271 - accuracy: 0.9121 - val_loss: 0.3222 - val_accuracy: 0.8638\n",
      "Epoch 17/30\n",
      "157/157 [==============================] - 16s 104ms/step - loss: 0.2166 - accuracy: 0.9179 - val_loss: 0.3220 - val_accuracy: 0.8656\n",
      "Epoch 18/30\n",
      "157/157 [==============================] - 16s 101ms/step - loss: 0.2066 - accuracy: 0.9232 - val_loss: 0.3247 - val_accuracy: 0.8646\n",
      "Epoch 19/30\n",
      "157/157 [==============================] - 16s 104ms/step - loss: 0.1978 - accuracy: 0.9275 - val_loss: 0.3266 - val_accuracy: 0.8652\n",
      "Epoch 20/30\n",
      "157/157 [==============================] - 17s 111ms/step - loss: 0.1896 - accuracy: 0.9309 - val_loss: 0.3272 - val_accuracy: 0.8654\n",
      "Epoch 21/30\n",
      "157/157 [==============================] - 19s 120ms/step - loss: 0.1821 - accuracy: 0.9341 - val_loss: 0.3324 - val_accuracy: 0.8658\n",
      "Epoch 22/30\n",
      "157/157 [==============================] - 17s 107ms/step - loss: 0.1749 - accuracy: 0.9378 - val_loss: 0.3337 - val_accuracy: 0.8656\n",
      "Epoch 23/30\n",
      "157/157 [==============================] - 18s 114ms/step - loss: 0.1682 - accuracy: 0.9406 - val_loss: 0.3405 - val_accuracy: 0.8650\n",
      "Epoch 24/30\n",
      "157/157 [==============================] - 17s 108ms/step - loss: 0.1623 - accuracy: 0.9431 - val_loss: 0.3423 - val_accuracy: 0.8636\n",
      "Epoch 25/30\n",
      "157/157 [==============================] - 16s 102ms/step - loss: 0.1561 - accuracy: 0.9459 - val_loss: 0.3452 - val_accuracy: 0.8644\n",
      "Epoch 26/30\n",
      "157/157 [==============================] - 17s 111ms/step - loss: 0.1506 - accuracy: 0.9479 - val_loss: 0.3499 - val_accuracy: 0.8652\n",
      "Epoch 27/30\n",
      "157/157 [==============================] - 18s 113ms/step - loss: 0.1453 - accuracy: 0.9506 - val_loss: 0.3567 - val_accuracy: 0.8638\n",
      "Epoch 28/30\n",
      "157/157 [==============================] - 18s 112ms/step - loss: 0.1401 - accuracy: 0.9524 - val_loss: 0.3595 - val_accuracy: 0.8626\n",
      "Epoch 29/30\n",
      "157/157 [==============================] - 20s 131ms/step - loss: 0.1356 - accuracy: 0.9542 - val_loss: 0.3638 - val_accuracy: 0.8628\n",
      "Epoch 30/30\n",
      "157/157 [==============================] - 20s 128ms/step - loss: 0.1311 - accuracy: 0.9557 - val_loss: 0.3699 - val_accuracy: 0.8602\n"
     ]
    }
   ],
   "source": [
    "history = model.fit(pad_x_train, y_train,\n",
    "                   batch_size = 128, epochs = 30,\n",
    "                   validation_split = 0.2)"
   ]
  },
  {
   "cell_type": "markdown",
   "id": "2ffd0336-ac3d-4bb9-88be-1902edc674ea",
   "metadata": {},
   "source": [
    "<b>시각화</b>"
   ]
  },
  {
   "cell_type": "code",
   "execution_count": 18,
   "id": "f723b303-f287-4d54-9c47-86c22d8a3a7d",
   "metadata": {},
   "outputs": [],
   "source": [
    "import matplotlib.pyplot as plt\n",
    "plt.style.use('seaborn-white')"
   ]
  },
  {
   "cell_type": "code",
   "execution_count": 21,
   "id": "aa651b09-1e84-48fe-b4c0-5f55df469e90",
   "metadata": {},
   "outputs": [
    {
     "data": {
      "image/png": "[encoded data removed]",
      "text/plain": [
       "<Figure size 432x288 with 1 Axes>"
      ]
     },
     "metadata": {},
     "output_type": "display_data"
    },
    {
     "data": {
      "image/png": "[encoded data removed]",
      "text/plain": [
       "<Figure size 432x288 with 1 Axes>"
      ]
     },
     "metadata": {},
     "output_type": "display_data"
    }
   ],
   "source": [
    "loss = history.history['loss']\n",
    "val_loss = history.history['val_loss']\n",
    "acc = history.history['accuracy']\n",
    "val_acc = history.history['val_accuracy']\n",
    "\n",
    "epochs = range(1, len(loss) + 1)\n",
    "\n",
    "plt.plot(epochs, loss, 'b--', label = 'training loss')\n",
    "plt.plot(epochs, val_loss, 'r:', label = 'validation loss')\n",
    "plt.grid()\n",
    "plt.legend()\n",
    "\n",
    "plt.figure()\n",
    "plt.plot(epochs, acc, 'b--', label = 'training accuracy')\n",
    "plt.plot(epochs, val_acc, 'r:', label = 'validation accuracy')\n",
    "plt.grid()\n",
    "plt.legend()\n",
    "\n",
    "plt.show()"
   ]
  },
  {
   "cell_type": "code",
   "execution_count": null,
   "id": "ec8bd268-c0de-4a01-b86a-8945032778cf",
   "metadata": {},
   "outputs": [],
   "source": [
    "model.evaluate(input_test, y_test)"
   ]
  },
  {
   "cell_type": "markdown",
   "id": "382b79f3-6c40-4d74-91d4-2a36c3c887a3",
   "metadata": {},
   "source": [
    "<h2>Reuters 데이터</h2>\n",
    "<b>데이터 로드 및 전처리</b>"
   ]
  },
  {
   "cell_type": "code",
   "execution_count": 23,
   "id": "da13dc0d-40e2-4a5b-aa7b-cb6f5d076992",
   "metadata": {},
   "outputs": [],
   "source": [
    "from tensorflow.keras.datasets import reuters"
   ]
  },
  {
   "cell_type": "code",
   "execution_count": 24,
   "id": "12a2933c-429a-4573-bd77-b55f09d53f02",
   "metadata": {},
   "outputs": [
    {
     "name": "stdout",
     "output_type": "stream",
     "text": [
      "Downloading data from https://storage.googleapis.com/tensorflow/tf-keras-datasets/reuters.npz\n",
      "2113536/2110848 [==============================] - 1s 1us/step\n"
     ]
    },
    {
     "name": "stderr",
     "output_type": "stream",
     "text": [
      "/home/dave/program/anaconda3/envs/nlp/lib/python3.9/site-packages/tensorflow/python/keras/datasets/reuters.py:143: VisibleDeprecationWarning: Creating an ndarray from ragged nested sequences (which is a list-or-tuple of lists-or-tuples-or ndarrays with different lengths or shapes) is deprecated. If you meant to do this, you must specify 'dtype=object' when creating the ndarray\n",
      "  x_train, y_train = np.array(xs[:idx]), np.array(labels[:idx])\n",
      "/home/dave/program/anaconda3/envs/nlp/lib/python3.9/site-packages/tensorflow/python/keras/datasets/reuters.py:144: VisibleDeprecationWarning: Creating an ndarray from ragged nested sequences (which is a list-or-tuple of lists-or-tuples-or ndarrays with different lengths or shapes) is deprecated. If you meant to do this, you must specify 'dtype=object' when creating the ndarray\n",
      "  x_test, y_test = np.array(xs[idx:]), np.array(labels[idx:])\n"
     ]
    },
    {
     "name": "stdout",
     "output_type": "stream",
     "text": [
      "8982\n",
      "2246\n"
     ]
    }
   ],
   "source": [
    "num_words = 10000\n",
    "max_len = 500\n",
    "\n",
    "(input_train, y_train) , (input_test, y_test) = reuters.load_data(num_words = num_words)\n",
    "\n",
    "print(len(input_train))\n",
    "print(len(input_test))"
   ]
  },
  {
   "cell_type": "code",
   "execution_count": 25,
   "id": "ba1882fd-98fa-4ef3-8941-850c127af526",
   "metadata": {},
   "outputs": [
    {
     "name": "stdout",
     "output_type": "stream",
     "text": [
      "(8982, 500)\n",
      "(2246, 500)\n"
     ]
    }
   ],
   "source": [
    "pad_x_train = pad_sequences(input_train, maxlen = max_len)\n",
    "pad_x_test = pad_sequences(input_test, maxlen = max_len)\n",
    "\n",
    "print(pad_x_train.shape)\n",
    "print(pad_x_test.shape)"
   ]
  },
  {
   "cell_type": "markdown",
   "id": "40820ffe-0722-4bbb-bc38-35ec6c47455f",
   "metadata": {},
   "source": [
    "<b>모델 구성</b>"
   ]
  },
  {
   "cell_type": "code",
   "execution_count": 28,
   "id": "5b3dca6b-a38d-4bdc-adbe-cc012af5b0c2",
   "metadata": {},
   "outputs": [],
   "source": [
    "def build_model():\n",
    "    model = Sequential()\n",
    "    \n",
    "    model.add(Embedding(input_dim = num_words, output_dim = 64, input_length = max_len))\n",
    "    model.add(Conv1D(64, 7, activation = 'relu'))\n",
    "    model.add(MaxPooling1D(7))\n",
    "    model.add(Conv1D(64, 5, activation = 'relu'))\n",
    "    model.add(MaxPooling1D(5))\n",
    "    model.add(GlobalMaxPooling1D())\n",
    "    model.add(Dense(46, activation = 'softmax'))\n",
    "    \n",
    "    model.compile(optimizer = 'adam',\n",
    "                 loss = 'sparse_categorical_crossentropy',\n",
    "                 metrics = ['accuracy'])\n",
    "    \n",
    "    return model"
   ]
  },
  {
   "cell_type": "code",
   "execution_count": 29,
   "id": "952d2626-6b57-470f-a772-e1c18cb9b336",
   "metadata": {},
   "outputs": [
    {
     "name": "stdout",
     "output_type": "stream",
     "text": [
      "Model: \"sequential_4\"\n",
      "_________________________________________________________________\n",
      "Layer (type)                 Output Shape              Param #   \n",
      "=================================================================\n",
      "embedding_3 (Embedding)      (None, 500, 64)           640000    \n",
      "_________________________________________________________________\n",
      "conv1d_6 (Conv1D)            (None, 494, 64)           28736     \n",
      "_________________________________________________________________\n",
      "max_pooling1d_6 (MaxPooling1 (None, 70, 64)            0         \n",
      "_________________________________________________________________\n",
      "conv1d_7 (Conv1D)            (None, 66, 64)            20544     \n",
      "_________________________________________________________________\n",
      "max_pooling1d_7 (MaxPooling1 (None, 13, 64)            0         \n",
      "_________________________________________________________________\n",
      "global_max_pooling1d_3 (Glob (None, 64)                0         \n",
      "_________________________________________________________________\n",
      "dense_3 (Dense)              (None, 46)                2990      \n",
      "=================================================================\n",
      "Total params: 692,270\n",
      "Trainable params: 692,270\n",
      "Non-trainable params: 0\n",
      "_________________________________________________________________\n"
     ]
    }
   ],
   "source": [
    "model = build_model()\n",
    "model.summary()"
   ]
  },
  {
   "cell_type": "markdown",
   "id": "3ae8220d-45ef-4918-a684-2b4b96f07727",
   "metadata": {},
   "source": [
    "<b>모델 학습</b>"
   ]
  },
  {
   "cell_type": "code",
   "execution_count": 30,
   "id": "324b5f2f-04be-4ba2-b754-18170df43777",
   "metadata": {},
   "outputs": [
    {
     "name": "stdout",
     "output_type": "stream",
     "text": [
      "Epoch 1/30\n",
      "57/57 [==============================] - 22s 373ms/step - loss: 2.6705 - accuracy: 0.3608 - val_loss: 2.0604 - val_accuracy: 0.5103\n",
      "Epoch 2/30\n",
      "57/57 [==============================] - 16s 273ms/step - loss: 1.8932 - accuracy: 0.5255 - val_loss: 1.7504 - val_accuracy: 0.5287\n",
      "Epoch 3/30\n",
      "57/57 [==============================] - 16s 278ms/step - loss: 1.6464 - accuracy: 0.5663 - val_loss: 1.5924 - val_accuracy: 0.6004\n",
      "Epoch 4/30\n",
      "57/57 [==============================] - 19s 329ms/step - loss: 1.4513 - accuracy: 0.6473 - val_loss: 1.4666 - val_accuracy: 0.6516\n",
      "Epoch 5/30\n",
      "57/57 [==============================] - 15s 271ms/step - loss: 1.2445 - accuracy: 0.6944 - val_loss: 1.3612 - val_accuracy: 0.6728\n",
      "Epoch 6/30\n",
      "57/57 [==============================] - 17s 294ms/step - loss: 1.0420 - accuracy: 0.7400 - val_loss: 1.3046 - val_accuracy: 0.6945\n",
      "Epoch 7/30\n",
      "57/57 [==============================] - 16s 281ms/step - loss: 0.8733 - accuracy: 0.7743 - val_loss: 1.2984 - val_accuracy: 0.7090\n",
      "Epoch 8/30\n",
      "57/57 [==============================] - 15s 266ms/step - loss: 0.7317 - accuracy: 0.8163 - val_loss: 1.3377 - val_accuracy: 0.7078\n",
      "Epoch 9/30\n",
      "57/57 [==============================] - 16s 280ms/step - loss: 0.6244 - accuracy: 0.8401 - val_loss: 1.4114 - val_accuracy: 0.7051\n",
      "Epoch 10/30\n",
      "57/57 [==============================] - 16s 285ms/step - loss: 0.5175 - accuracy: 0.8676 - val_loss: 1.4228 - val_accuracy: 0.7206\n",
      "Epoch 11/30\n",
      "57/57 [==============================] - 20s 356ms/step - loss: 0.4315 - accuracy: 0.8942 - val_loss: 1.5047 - val_accuracy: 0.7223\n",
      "Epoch 12/30\n",
      "57/57 [==============================] - 17s 295ms/step - loss: 0.3550 - accuracy: 0.9151 - val_loss: 1.5622 - val_accuracy: 0.7257\n",
      "Epoch 13/30\n",
      "57/57 [==============================] - 17s 291ms/step - loss: 0.3073 - accuracy: 0.9244 - val_loss: 1.6267 - val_accuracy: 0.7179\n",
      "Epoch 14/30\n",
      "57/57 [==============================] - 15s 269ms/step - loss: 0.2521 - accuracy: 0.9404 - val_loss: 1.7049 - val_accuracy: 0.7201\n",
      "Epoch 15/30\n",
      "57/57 [==============================] - 15s 259ms/step - loss: 0.2244 - accuracy: 0.9485 - val_loss: 1.7536 - val_accuracy: 0.7201\n",
      "Epoch 16/30\n",
      "57/57 [==============================] - 15s 262ms/step - loss: 0.2007 - accuracy: 0.9534 - val_loss: 1.8323 - val_accuracy: 0.7162\n",
      "Epoch 17/30\n",
      "57/57 [==============================] - 15s 263ms/step - loss: 0.1802 - accuracy: 0.9563 - val_loss: 1.8371 - val_accuracy: 0.7234\n",
      "Epoch 18/30\n",
      "57/57 [==============================] - 15s 267ms/step - loss: 0.1626 - accuracy: 0.9580 - val_loss: 1.9113 - val_accuracy: 0.7234\n",
      "Epoch 19/30\n",
      "57/57 [==============================] - 15s 262ms/step - loss: 0.1665 - accuracy: 0.9584 - val_loss: 1.8937 - val_accuracy: 0.7168\n",
      "Epoch 20/30\n",
      "57/57 [==============================] - 15s 268ms/step - loss: 0.1457 - accuracy: 0.9591 - val_loss: 1.9223 - val_accuracy: 0.7117\n",
      "Epoch 21/30\n",
      "57/57 [==============================] - 16s 282ms/step - loss: 0.1326 - accuracy: 0.9609 - val_loss: 1.9308 - val_accuracy: 0.7223\n",
      "Epoch 22/30\n",
      "57/57 [==============================] - 15s 261ms/step - loss: 0.1286 - accuracy: 0.9645 - val_loss: 1.9790 - val_accuracy: 0.7251\n",
      "Epoch 23/30\n",
      "57/57 [==============================] - 15s 256ms/step - loss: 0.1366 - accuracy: 0.9619 - val_loss: 1.9534 - val_accuracy: 0.7318\n",
      "Epoch 24/30\n",
      "57/57 [==============================] - 14s 238ms/step - loss: 0.1268 - accuracy: 0.9633 - val_loss: 1.9770 - val_accuracy: 0.7195\n",
      "Epoch 25/30\n",
      "57/57 [==============================] - 13s 235ms/step - loss: 0.1188 - accuracy: 0.9630 - val_loss: 1.9528 - val_accuracy: 0.7295\n",
      "Epoch 26/30\n",
      "57/57 [==============================] - 14s 245ms/step - loss: 0.1109 - accuracy: 0.9642 - val_loss: 1.9218 - val_accuracy: 0.7273\n",
      "Epoch 27/30\n",
      "57/57 [==============================] - 15s 269ms/step - loss: 0.1171 - accuracy: 0.9630 - val_loss: 1.9618 - val_accuracy: 0.7245\n",
      "Epoch 28/30\n",
      "57/57 [==============================] - 13s 230ms/step - loss: 0.1110 - accuracy: 0.9630 - val_loss: 1.9458 - val_accuracy: 0.7156\n",
      "Epoch 29/30\n",
      "57/57 [==============================] - 14s 245ms/step - loss: 0.1125 - accuracy: 0.9645 - val_loss: 1.9519 - val_accuracy: 0.7257\n",
      "Epoch 30/30\n",
      "57/57 [==============================] - 15s 268ms/step - loss: 0.1035 - accuracy: 0.9659 - val_loss: 1.9743 - val_accuracy: 0.7184\n"
     ]
    }
   ],
   "source": [
    "history = model.fit(pad_x_train, y_train,\n",
    "                   batch_size = 128, epochs = 30,\n",
    "                   validation_split = 0.2)"
   ]
  },
  {
   "cell_type": "markdown",
   "id": "98182b7a-523b-4635-a8c5-1bf142b90192",
   "metadata": {},
   "source": [
    "<b>시각화</b>"
   ]
  },
  {
   "cell_type": "code",
   "execution_count": 32,
   "id": "260347bd-c5e7-4d8e-9594-272c95333965",
   "metadata": {},
   "outputs": [
    {
     "data": {
      "image/png": "[encoded data removed]",
      "text/plain": [
       "<Figure size 432x288 with 1 Axes>"
      ]
     },
     "metadata": {},
     "output_type": "display_data"
    },
    {
     "data": {
      "image/png": "[encoded data removed]",
      "text/plain": [
       "<Figure size 432x288 with 1 Axes>"
      ]
     },
     "metadata": {},
     "output_type": "display_data"
    }
   ],
   "source": [
    "loss = history.history['loss']\n",
    "val_loss = history.history['val_loss']\n",
    "acc = history.history['accuracy']\n",
    "val_acc = history.history['val_accuracy']\n",
    "\n",
    "epochs = range(1, len(loss) + 1)\n",
    "\n",
    "plt.plot(epochs, loss, 'b--', label = 'training loss')\n",
    "plt.plot(epochs, val_loss, 'r:', label = 'validation loss')\n",
    "plt.grid()\n",
    "plt.legend()\n",
    "\n",
    "plt.figure()\n",
    "plt.plot(epochs, acc, 'b--', label = 'training accuracy')\n",
    "plt.plot(epochs, val_acc, 'r:', label = 'validation accuracy')\n",
    "plt.grid()\n",
    "plt.legend()\n",
    "\n",
    "plt.show()"
   ]
  },
  {
   "cell_type": "code",
   "execution_count": null,
   "id": "a6d8ff55-92fa-4747-823c-e12c690e3401",
   "metadata": {},
   "outputs": [],
   "source": [
    "model.evaluate(input_test, y_test)"
   ]
  }
 ],
 "metadata": {
  "kernelspec": {
   "display_name": "Python 3",
   "language": "python",
   "name": "python3"
  },
  "language_info": {
   "codemirror_mode": {
    "name": "ipython",
    "version": 3
   },
   "file_extension": ".py",
   "mimetype": "text/x-python",
   "name": "python",
   "nbconvert_exporter": "python",
   "pygments_lexer": "ipython3",
   "version": "3.9.5"
  }
 },
 "nbformat": 4,
 "nbformat_minor": 5
}
