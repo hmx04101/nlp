{
 "cells": [
  {
   "cell_type": "markdown",
   "id": "de4f3dc8-c876-485c-b639-d3b870bca7c4",
   "metadata": {},
   "source": [
    "<h2>순환 신경망(Recurrent Neural Network, RNN)</h2>\n",
    "<b>순서가 있는 데이터 입력에, 변화하는 입력에 대한 출력을 얻음</b><br>\n",
    "<b>시계열(날씨, 주가 등) 자연어와 같이 시간의 흐름에 따라 변화하고, 그 변화가 의미를 갖는 데이터</b>"
   ]
  },
  {
   "cell_type": "markdown",
   "id": "0bc99de7-ada0-4aab-a7c3-5156377f6e5c",
   "metadata": {},
   "source": [
    "<h2>Feed Forward Network vs Recurrent Network</h2>\n",
    "<h2>Feed Forward Network(앞먹임 구조)</h2>\n",
    "<b>일반적인 구조 신경망</b><br>\n",
    "<b>입력 -> 은닉 -> 출력층 으로 이어지는 단방향</b><br>\n",
    "<b>이전 스텝 출력 영향을 받지 않음</b><br>\n",
    "\n",
    "<h2>Recurrent Network(되먹임 구조)</h2>\n",
    "<b>이전 층(Layer) 또는 스텝의 출력이 다시 입력으로 연결되는 구조</b><br>\n",
    "<b>각 스텝마다 이전 상태를 기억 시스템(Memory System)</b><br>\n",
    "<b>현재 상태가 이전 상태에 종속</b><br>"
   ]
  },
  {
   "cell_type": "markdown",
   "id": "cae5c442-b4ef-4305-a97a-7b02d522e2df",
   "metadata": {},
   "source": [
    "<h2>순환 신경망 구조</h2>\n",
    "<b>One to One - RNN</b><br>\n",
    "<b>One to Many - Image Captioning, 이미지 설명 생성</b><br>\n",
    "<b>Many to One - Sentiment Classification, 문장 긍정/부정 판단하는 감정 분석</b><br>\n",
    "<b>Many to Many - Machine Translation, 하나의 언어를 다른 언어로 번역하는 기계 번역</b><br>\n",
    "<b>Many to Many - Video Classification(Frame Level)</b>"
   ]
  },
  {
   "cell_type": "code",
   "execution_count": 2,
   "id": "07a3c7aa-42fb-41e3-8a87-5d1a2c42f120",
   "metadata": {},
   "outputs": [],
   "source": [
    "import numpy as np"
   ]
  },
  {
   "cell_type": "code",
   "execution_count": 14,
   "id": "24f33794-33df-4cb6-80dd-d7b177e92fd0",
   "metadata": {},
   "outputs": [],
   "source": [
    "timesteps = 100\n",
    "input_features = 32\n",
    "output_features = 64\n",
    "\n",
    "inputs = np.random.random((timesteps, input_features))\n",
    "\n",
    "state_t = np.zeros((output_features, ))\n",
    "\n",
    "W = np.random.random((output_features, input_features))\n",
    "U = np.random.random((output_features, output_features))\n",
    "b = np.random.random((output_features))\n",
    "\n",
    "succesive_outputs = []\n",
    "\n",
    "for input_t in inputs:\n",
    "    output_t = np.tanh(np.dot(W, input_t) + np.dot(U, state_t) + b)\n",
    "    succesive_outputs.append(output_t)\n",
    "    state_t = output_t\n",
    "    \n",
    "final_output_sequence = np.stack(succesive_outputs, axis = 0 )"
   ]
  },
  {
   "cell_type": "markdown",
   "id": "aa788a15-3f4c-4bbd-898f-e62cc0dfbd9c",
   "metadata": {},
   "source": [
    "<h2>케라스 순환층</h2>\n",
    "<b>SimpleRNN layer</b><br>\n",
    "<b>입력: batch_size, timesteps, input_features</b><br>\n",
    "\n",
    "<b>출력: return_sequences로 결정</b><br>\n",
    "<b>3D 텐서: 타임스텝스 출력을 모은 모든 전체 시퀀스 반환(batch_size, timesteps, output_features)</b><br>\n",
    "<b>2D 텐서: 입력 시퀀스에 대한 마지막 출력만 반환(batch_size, output_features)</b><br>"
   ]
  },
  {
   "cell_type": "code",
   "execution_count": 9,
   "id": "036d1932-262a-42c4-ada1-86a85d6b84c3",
   "metadata": {},
   "outputs": [],
   "source": [
    "from tensorflow.keras.layers import SimpleRNN, Embedding\n",
    "from tensorflow.keras.models import Sequential"
   ]
  },
  {
   "cell_type": "code",
   "execution_count": 18,
   "id": "295cb8a7-25e4-4ea8-af47-6faf261220fa",
   "metadata": {},
   "outputs": [
    {
     "name": "stdout",
     "output_type": "stream",
     "text": [
      "Model: \"sequential_5\"\n",
      "_________________________________________________________________\n",
      "Layer (type)                 Output Shape              Param #   \n",
      "=================================================================\n",
      "embedding_4 (Embedding)      (None, None, 32)          320000    \n",
      "=================================================================\n",
      "Total params: 320,000\n",
      "Trainable params: 320,000\n",
      "Non-trainable params: 0\n",
      "_________________________________________________________________\n"
     ]
    }
   ],
   "source": [
    "model = Sequential()\n",
    "model.add(Embedding(10000, 32))\n",
    "# model.add(SimpleRNN(32))\n",
    "model.summary()"
   ]
  },
  {
   "cell_type": "code",
   "execution_count": null,
   "id": "14d3ac00-d6ba-49fb-a877-188e6eb86dec",
   "metadata": {},
   "outputs": [],
   "source": [
    "model = Sequential()\n",
    "model.add(Embedding(10000, 32))\n",
    "model.add(SimpleRNN(32, return_sequences = True))\n",
    "model.add(SimpleRNN(16))\n",
    "model.summary()"
   ]
  },
  {
   "cell_type": "markdown",
   "id": "b1efef79-1904-4441-8d59-f1e235a51032",
   "metadata": {},
   "source": [
    "<b>네트워크 표현력 증가 위해 여러 순환층을 차례대로 쌓는 것이 유요할 때가 있음</b><br>\n",
    "<b>중간 층들이 전체 출력 시퀀스 반환하도록 설정</b>"
   ]
  },
  {
   "cell_type": "code",
   "execution_count": null,
   "id": "8c495e23-4541-4148-a0bc-f057266372bb",
   "metadata": {},
   "outputs": [],
   "source": [
    "model = Sequential()\n",
    "modle.add(Embedding(10000, 32))\n",
    "model.add(SimpleRNN(32, return_sequences = True))\n",
    "model.add(SimpleRNN(32, return_sequences = True))\n",
    "model.add(SimpleRNN(32, return_sequences = True))\n",
    "model.add(SimpleRNN(32))\n",
    "\n",
    "model.summary()"
   ]
  },
  {
   "cell_type": "markdown",
   "id": "cfe5e9d7-086d-426f-8ac3-37cd75c39a0a",
   "metadata": {},
   "source": [
    "<h2>IMDB 데이터로 적용</h2>"
   ]
  },
  {
   "cell_type": "code",
   "execution_count": 23,
   "id": "b9f3418f-7c5f-4e4b-aff2-147ef931a5e5",
   "metadata": {},
   "outputs": [],
   "source": [
    "from tensorflow.keras.datasets import imdb\n",
    "from tensorflow.keras.preprocessing import sequence"
   ]
  },
  {
   "cell_type": "code",
   "execution_count": 24,
   "id": "96010105-9c1c-4651-b649-08b6baab6ecf",
   "metadata": {},
   "outputs": [
    {
     "name": "stdout",
     "output_type": "stream",
     "text": [
      "Downloading data from https://storage.googleapis.com/tensorflow/tf-keras-datasets/imdb.npz\n",
      "17465344/17464789 [==============================] - 6s 0us/step\n"
     ]
    },
    {
     "name": "stderr",
     "output_type": "stream",
     "text": [
      "<__array_function__ internals>:5: VisibleDeprecationWarning: Creating an ndarray from ragged nested sequences (which is a list-or-tuple of lists-or-tuples-or ndarrays with different lengths or shapes) is deprecated. If you meant to do this, you must specify 'dtype=object' when creating the ndarray.\n",
      "/home/dave/program/anaconda3/envs/nlp/lib/python3.9/site-packages/tensorflow/python/keras/datasets/imdb.py:155: VisibleDeprecationWarning: Creating an ndarray from ragged nested sequences (which is a list-or-tuple of lists-or-tuples-or ndarrays with different lengths or shapes) is deprecated. If you meant to do this, you must specify 'dtype=object' when creating the ndarray.\n",
      "  x_train, y_train = np.array(xs[:idx]), np.array(labels[:idx])\n",
      "/home/dave/program/anaconda3/envs/nlp/lib/python3.9/site-packages/tensorflow/python/keras/datasets/imdb.py:156: VisibleDeprecationWarning: Creating an ndarray from ragged nested sequences (which is a list-or-tuple of lists-or-tuples-or ndarrays with different lengths or shapes) is deprecated. If you meant to do this, you must specify 'dtype=object' when creating the ndarray.\n",
      "  x_test, y_test = np.array(xs[idx:]), np.array(labels[idx:])\n"
     ]
    },
    {
     "name": "stdout",
     "output_type": "stream",
     "text": [
      "25000\n",
      "25000\n",
      "(25000, 500)\n",
      "(25000, 500)\n"
     ]
    }
   ],
   "source": [
    "num_words = 10000\n",
    "max_len = 500\n",
    "batch_size = 32\n",
    "\n",
    "(input_train, y_train), (input_test, y_test) = imdb.load_data(num_words = num_words)\n",
    "print(len(input_train))\n",
    "print(len(input_test))\n",
    "\n",
    "input_train = sequence.pad_sequences(input_train, maxlen = max_len)\n",
    "input_test = sequence.pad_sequences(input_test, maxlen = max_len)\n",
    "print(input_train.shape)\n",
    "print(input_test.shape)"
   ]
  },
  {
   "cell_type": "markdown",
   "id": "2679760a-2c1b-4d94-9b40-7ecd4073be11",
   "metadata": {},
   "source": [
    "<b>모델 구성</b>"
   ]
  },
  {
   "cell_type": "code",
   "execution_count": 25,
   "id": "12c689bf-d43e-4c68-928f-67443ab5affc",
   "metadata": {},
   "outputs": [],
   "source": [
    "from tensorflow.keras.layers import Dense"
   ]
  },
  {
   "cell_type": "code",
   "execution_count": null,
   "id": "f4610d8a-bd7a-4914-aa3b-d2ad11293581",
   "metadata": {},
   "outputs": [],
   "source": [
    "model = Sequential()\n",
    "\n",
    "model.add(Embedding(num_words, 32))\n",
    "model.add(SimpleRNN(32))\n",
    "model.add(Dense(1, activation = 'sigmoid'))\n",
    "\n",
    "model.compile(optimizer = 'rmsprop',\n",
    "             loss = 'binarycrossentropy',\n",
    "              metrics = ['acc'])\n",
    "\n",
    "model.summary()"
   ]
  },
  {
   "cell_type": "markdown",
   "id": "e31f590d-54b1-4398-859f-cf4aa37f499a",
   "metadata": {},
   "source": [
    "<b>모델 학습</b>"
   ]
  },
  {
   "cell_type": "code",
   "execution_count": null,
   "id": "82c39b70-01bb-4c08-9bbe-da3d7fcd7052",
   "metadata": {},
   "outputs": [],
   "source": [
    "history = model.fit(input_train, y_train,\n",
    "                   epochs = 10,\n",
    "                   batch_size = 128,\n",
    "                   validation_split = 0.2)"
   ]
  },
  {
   "cell_type": "code",
   "execution_count": null,
   "id": "c4d2853b-0959-4e82-acb3-ba0f77eacc78",
   "metadata": {},
   "outputs": [],
   "source": [
    "import matplotlib.pyplot as plt\n",
    "plt.style.use('seaborn-white')"
   ]
  },
  {
   "cell_type": "code",
   "execution_count": null,
   "id": "aa273b9f-6a97-4299-b4a1-8e7b66ea79e6",
   "metadata": {},
   "outputs": [],
   "source": [
    "loss = history.history['loss']\n",
    "val_loss = history.history['val_loss']\n",
    "acc = history.history['acc']\n",
    "val_acc = history.history['val_acc']\n",
    "\n",
    "epochs = range(1, len(loss) + 1)\n",
    "\n",
    "plt.plot(epochs, loss, 'b--', label = 'training loss')\n",
    "plt.plot(epochs, val_loss, 'r:', label = 'validation loss')\n",
    "plt.grid()\n",
    "plt.legend()\n",
    "\n",
    "plt.figure()\n",
    "plt.plot(epochs, acc, 'b--', label = 'training accuracy')\n",
    "plt.plot(epochs, val_acc, 'r:', label = 'validation accuracy')\n",
    "plt.grid()\n",
    "plt.legend()\n",
    "\n",
    "plt.show()"
   ]
  },
  {
   "cell_type": "markdown",
   "id": "66075590-ca80-4657-9d04-1dd4bd68ae96",
   "metadata": {},
   "source": [
    "<b>모델 평가</b>"
   ]
  },
  {
   "cell_type": "code",
   "execution_count": null,
   "id": "e28fb298-2bb0-49d1-ac2f-5e05b3b9d9ec",
   "metadata": {},
   "outputs": [],
   "source": [
    "model.evaluate(input_test, y_test)"
   ]
  },
  {
   "cell_type": "markdown",
   "id": "5abd4ae7-98e6-4120-9595-8366d940b18a",
   "metadata": {},
   "source": [
    "<b>전체 시퀀스 아닌 순서대로 500개만 넣어 성능이 낮음</b><br>\n",
    "<b>SimpleRNN은 긴 시퀀스 처리에 부적합, 실전에 이용하기엔 너무 단순 -> 이를 방지하기 위해 LSTM, GRU 같은 레이어 등장</b><br>\n",
    "<b>그래디언트 소실 문제(vanishing gradient problem)</b><br>"
   ]
  },
  {
   "cell_type": "markdown",
   "id": "775a2d67-59c4-4963-bf15-589f25ddfb1d",
   "metadata": {},
   "source": [
    "<h2>LSTM(Long Short-Term Memory)</h2>\n",
    "<b>장단기 메모리 알고리즘</b><br>\n",
    "<b>나중을 위해 정보 저장, 오래된 시그널이 점차 소실되는 것 막아줌</b><br>"
   ]
  },
  {
   "cell_type": "code",
   "execution_count": null,
   "id": "5c56137b-a219-4189-8910-3e4d919c1a38",
   "metadata": {},
   "outputs": [],
   "source": [
    "from tensorflow.keras.datasets import imdb\n",
    "from tensorflow.keras.preprocessing.sequence import pad_sequences"
   ]
  },
  {
   "cell_type": "code",
   "execution_count": null,
   "id": "4a3b50f7-bf44-4133-9d78-f3ac50ba3016",
   "metadata": {},
   "outputs": [],
   "source": [
    "num_words = 10000\n",
    "max_len = 500\n",
    "\n",
    "(x_train, y_train), (x_test, y_test) = imdb.load_data(num_words = num_words)\n",
    "print(len(x_train))\n",
    "print(len(x_test))\n",
    "\n",
    "pad_x_train = sequence.pad_sequences(x_train, maxlen = max_len)\n",
    "pad_x_test = sequence.pad_sequences(x_test, maxlen = max_len)\n",
    "print(pad_x_train.shape)\n",
    "print(pad_x_test.shape)"
   ]
  },
  {
   "cell_type": "markdown",
   "id": "c6a455c3-ae70-4556-a126-da555c590ffd",
   "metadata": {},
   "source": [
    "<b>모델 구성</b>"
   ]
  },
  {
   "cell_type": "code",
   "execution_count": 30,
   "id": "c69ce0e9-3424-4399-92a6-e7f40508839d",
   "metadata": {},
   "outputs": [],
   "source": [
    "from tensorflow.keras.models import Sequential\n",
    "from tensorflow.keras.layers import Dense, LSTM, GRU, Embedding"
   ]
  },
  {
   "cell_type": "code",
   "execution_count": null,
   "id": "0ddc4e17-d149-4c98-b11b-9fac9eed6cfc",
   "metadata": {},
   "outputs": [],
   "source": [
    "model = Sequential()\n",
    "\n",
    "model.add(Embedding(num_words, 32))\n",
    "model.add(LSTM(32))\n",
    "model.add(Dense(1, activation = 'sigmoid'))\n",
    "\n",
    "model.compile(optimizer = 'rmsprop',\n",
    "             loss = 'binarycrossentropy',\n",
    "              metrics = ['acc'])\n",
    "\n",
    "model.summary()"
   ]
  },
  {
   "cell_type": "markdown",
   "id": "98d61315-1ac8-41a2-9720-ff52e34477e7",
   "metadata": {},
   "source": [
    "<b>모델 학습</b>"
   ]
  },
  {
   "cell_type": "code",
   "execution_count": null,
   "id": "5e6d447e-591c-44b9-a958-a1536b035aac",
   "metadata": {},
   "outputs": [],
   "source": [
    "history = model.fit(input_train, y_train,\n",
    "                   epochs = 10,\n",
    "                   batch_size = 128,\n",
    "                   validation_split = 0.2)"
   ]
  },
  {
   "cell_type": "markdown",
   "id": "16804e78-2ca9-4991-8c2a-d33c1e152b88",
   "metadata": {},
   "source": [
    "<b>시각화</b>"
   ]
  },
  {
   "cell_type": "code",
   "execution_count": null,
   "id": "1f01184c-a7ec-4738-b221-ead5305095b6",
   "metadata": {},
   "outputs": [],
   "source": [
    "loss = history.history['loss']\n",
    "val_loss = history.history['val_loss']\n",
    "acc = history.history['acc']\n",
    "val_acc = history.history['val_acc']\n",
    "\n",
    "epochs = range(1, len(loss) + 1)\n",
    "\n",
    "plt.plot(epochs, loss, 'b--', label = 'training loss')\n",
    "plt.plot(epochs, val_loss, 'r:', label = 'validation loss')\n",
    "plt.grid()\n",
    "plt.legend()\n",
    "\n",
    "plt.figure()\n",
    "plt.plot(epochs, acc, 'b--', label = 'training accuracy')\n",
    "plt.plot(epochs, val_acc, 'r:', label = 'validation accuracy')\n",
    "plt.grid()\n",
    "plt.legend()\n",
    "\n",
    "plt.show()"
   ]
  },
  {
   "cell_type": "markdown",
   "id": "706ee174-e4a5-44af-9569-5185b91eea30",
   "metadata": {},
   "source": [
    "<b>모델 평가</b>"
   ]
  },
  {
   "cell_type": "code",
   "execution_count": null,
   "id": "8de6037d-8e30-491e-b9e3-125c44baf58c",
   "metadata": {},
   "outputs": [],
   "source": [
    "model.evaluate(pad_x_test, y_test)"
   ]
  },
  {
   "cell_type": "markdown",
   "id": "ff3deb29-8417-4b0a-918c-a475f2902d77",
   "metadata": {},
   "source": [
    "<h2>GRU(Gates Recurrent Unit)</h2>\n",
    "<b>LSTM을 더 단순하게 만든 구조</b><br>\n",
    "<b>기억 셀 없고, 시간방향으로 전파하는 은닉 상태만 있음</b><br>\n",
    "\n",
    "<b>reset gate - 과거 은닉 상태 얼마나 무시할지를 r 값이 결정</b><br>\n",
    "<b>update gate - 은닉 상태를 갱신하는 게이트(LSTM의 forget, input gate 역할)</b><br>"
   ]
  },
  {
   "cell_type": "markdown",
   "id": "52bb6b9c-8a68-4615-93ce-0af99363d548",
   "metadata": {},
   "source": [
    "<h2>Reuters 데이터</h2>\n",
    "<b>IMDB와 유사한 데이터셋(텍스트 데이터), 46개의 상호 배타적인 토픽으로 이루어짐, 다중 분류 문제</b><br>"
   ]
  },
  {
   "cell_type": "code",
   "execution_count": null,
   "id": "7d49feee-444d-43cb-b8ac-ed7c1768b9fa",
   "metadata": {},
   "outputs": [],
   "source": [
    "from tensorflow.keras.datasets import reuters"
   ]
  },
  {
   "cell_type": "code",
   "execution_count": null,
   "id": "a98d578d-f963-4609-a171-c14ff1a78904",
   "metadata": {},
   "outputs": [],
   "source": [
    "num_words = 10000\n",
    "\n",
    "(x_train, y_train), (x_test, y_test) = reuters.load_data(num_words = num_words)\n",
    "print(x_train.shape)\n",
    "print(y_train.shape)\n",
    "\n",
    "print(x_test.shape)\n",
    "print(y_test.shape)"
   ]
  },
  {
   "cell_type": "markdown",
   "id": "8e5a1839-776c-45d1-b810-b83bc77c4279",
   "metadata": {},
   "source": [
    "<b>데이터 전처리 및 확인</b>"
   ]
  },
  {
   "cell_type": "code",
   "execution_count": null,
   "id": "847f0132-e753-454d-a636-e6f54bf3c885",
   "metadata": {},
   "outputs": [],
   "source": [
    "from tensorflow.keras.preprocessing.sequence import pad_sequences"
   ]
  },
  {
   "cell_type": "code",
   "execution_count": null,
   "id": "572d1737-8399-4ec4-b76f-4d883510b0a8",
   "metadata": {},
   "outputs": [],
   "source": [
    "max_len = 300"
   ]
  },
  {
   "cell_type": "code",
   "execution_count": null,
   "id": "ca8221e5-1026-46da-985f-d0180ddba94c",
   "metadata": {},
   "outputs": [],
   "source": [
    "pad_x_train = pad_sequences(x_train, maxlen = max_len)\n",
    "pad_x_test = pad_sequences(x_test, maxlen = max_len)\n",
    "\n",
    "print(len(pad_x_train[0]))"
   ]
  },
  {
   "cell_type": "code",
   "execution_count": null,
   "id": "fc5beb4b-5f8f-430f-864a-4465ec8a92d6",
   "metadata": {},
   "outputs": [],
   "source": [
    "pad_x_train[5]"
   ]
  },
  {
   "cell_type": "markdown",
   "id": "d6b5632d-9ce0-4062-aa0d-24a237aeb88c",
   "metadata": {},
   "source": [
    "<b>모델 구성</b><br>\n",
    "<b>LSTM 레이어도 SimpleRNN과 같이 Return_sequences 인자 사용 가능</b>"
   ]
  },
  {
   "cell_type": "code",
   "execution_count": null,
   "id": "40e11e4f-6a25-424c-a999-f94b47532c6f",
   "metadata": {},
   "outputs": [],
   "source": [
    "from tensorflow.keras.models import Sequential\n",
    "from tensorflow.keras.layers import Dense LSTM, GRU, Enbedding"
   ]
  },
  {
   "cell_type": "code",
   "execution_count": null,
   "id": "3d97dc3d-42c1-466b-a80e-19fc5b877b55",
   "metadata": {},
   "outputs": [],
   "source": [
    "model = Sequential()\n",
    "model.add(Embedding(input_dim = num_words, output_dim = 256))\n",
    "model.add(GRU(256, return_sequences = True))\n",
    "model.add(GRU(128))\n",
    "model.add(Dense(46, activation = 'softmax'))\n",
    "\n",
    "model.compile(optimizer = 'adam',\n",
    "             loss = 'sparse_categorical_crossentropy',\n",
    "             metrics['acc'])\n",
    "model.summary()"
   ]
  },
  {
   "cell_type": "markdown",
   "id": "7fb43137-45be-4834-8217-7fffdcf8b00e",
   "metadata": {},
   "source": [
    "<b>모델 학습</b><br>"
   ]
  },
  {
   "cell_type": "code",
   "execution_count": null,
   "id": "9d5c9b32-025f-494c-97bc-3a2402e82ac0",
   "metadata": {},
   "outputs": [],
   "source": [
    "history = model.fit(pad_x_train, y_train,\n",
    "                   epochs = 20,\n",
    "                   batch_size = 32,\n",
    "                   validation_split = 0.2)"
   ]
  },
  {
   "cell_type": "markdown",
   "id": "efe627ad-71f3-480b-827c-ba33e0869b80",
   "metadata": {},
   "source": [
    "<b>시각화</b>"
   ]
  },
  {
   "cell_type": "code",
   "execution_count": null,
   "id": "891b0f23-19b7-428b-a510-a3b9537fa789",
   "metadata": {},
   "outputs": [],
   "source": [
    "loss = history.history['loss']\n",
    "val_loss = history.history['val_loss']\n",
    "acc = history.history['acc']\n",
    "val_acc = history.history['val_acc']\n",
    "\n",
    "epochs = range(1, len(loss) + 1)\n",
    "\n",
    "plt.plot(epochs, loss, 'b--', label = 'training loss')\n",
    "plt.plot(epochs, val_loss, 'r:', label = 'validation loss')\n",
    "plt.grid()\n",
    "plt.legend()\n",
    "\n",
    "plt.figure()\n",
    "plt.plot(epochs, acc, 'b--', label = 'training accuracy')\n",
    "plt.plot(epochs, val_acc, 'r:', label = 'validation accuracy')\n",
    "plt.grid()\n",
    "plt.legend()\n",
    "\n",
    "plt.show()"
   ]
  },
  {
   "cell_type": "markdown",
   "id": "67febd18-8b0d-4f4a-8c81-a78257ec2699",
   "metadata": {},
   "source": [
    "<b>모델 평가</b>"
   ]
  },
  {
   "cell_type": "code",
   "execution_count": null,
   "id": "8f89c815-53d0-41f6-b11b-d9b8cab14e07",
   "metadata": {},
   "outputs": [],
   "source": [
    "model.evaluate(pad_x_test, y_test)"
   ]
  }
 ],
 "metadata": {
  "kernelspec": {
   "display_name": "Python 3",
   "language": "python",
   "name": "python3"
  },
  "language_info": {
   "codemirror_mode": {
    "name": "ipython",
    "version": 3
   },
   "file_extension": ".py",
   "mimetype": "text/x-python",
   "name": "python",
   "nbconvert_exporter": "python",
   "pygments_lexer": "ipython3",
   "version": "3.9.5"
  }
 },
 "nbformat": 4,
 "nbformat_minor": 5
}
