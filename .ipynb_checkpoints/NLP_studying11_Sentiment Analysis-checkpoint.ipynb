{
 "cells": [
  {
   "cell_type": "markdown",
   "id": "c5f90ac0-14f1-48bd-b885-64baf60b7780",
   "metadata": {},
   "source": [
    "<h2>감정 분석(Sentiment Analysis)</h2>\n",
    "<b>텍스트에 등장하는 단어들을 통해 어떤 감정이 드러나는지 분석</b><br>\n",
    "<b>Opinion Mining 으로도 불리며, 텍스트에 담긴 의견, 태도 등을 알아보는 기법</b><br>\n",
    "<b>미리 정의된 감정 어휘 사전이 필요</b><br>\n",
    "<b>Text = Topic + Opinion - 텍스트는 주제(토픽)와 의견(감정)의 결합으로 이루어 졌다고 볼 수 있음</b><br>\n"
   ]
  },
  {
   "cell_type": "markdown",
   "id": "99c7dd6f-b0ec-4239-ac90-666f11d66022",
   "metadata": {},
   "source": [
    "<b>SNS, 리뷰 분석에 유용하게 사용할 수 있음</b>\n",
    "<b>* 감정 어휘 사전을 이용한 감정 상태 분류 - 사전에 기반해 분류하고 감정을 계산</b><br>\n",
    "<b>* 기계 학습을 이용한 감정 상태 분류 - 훈련 데이터에 사용자가 분류한 감정 라벨이 포함되어야 하며, 인공 신경망, 의사 결정 트리 등의 알고리즘을 사용하여 분류</b><br>"
   ]
  },
  {
   "cell_type": "markdown",
   "id": "0c3a82af-7beb-4c99-971b-e48124f746dd",
   "metadata": {},
   "source": [
    "<h2>감정 어휘 사전을 이용한 감정 상태 분류</h2>\n",
    "<b>감정 사전 준비</b>"
   ]
  },
  {
   "cell_type": "code",
   "execution_count": 2,
   "id": "843e0059-08d1-4f24-a77f-4c152d746016",
   "metadata": {},
   "outputs": [
    {
     "name": "stdout",
     "output_type": "stream",
     "text": [
      "Collecting afinn\n",
      "  Downloading afinn-0.1.tar.gz (52 kB)\n",
      "\u001b[K     |████████████████████████████████| 52 kB 288 kB/s eta 0:00:01\n",
      "\u001b[?25hBuilding wheels for collected packages: afinn\n",
      "  Building wheel for afinn (setup.py) ... \u001b[?25ldone\n",
      "\u001b[?25h  Created wheel for afinn: filename=afinn-0.1-py3-none-any.whl size=53449 sha256=8ee01cc12b469c87957cf7dcbc9bc04b1f96a5e66a273d95a9af36a6e1099a7e\n",
      "  Stored in directory: /home/dave/.cache/pip/wheels/79/91/ee/8374d9bc8c6c0896a2db75afdfd63d43653902407a0e76cd94\n",
      "Successfully built afinn\n",
      "Installing collected packages: afinn\n",
      "Successfully installed afinn-0.1\n"
     ]
    }
   ],
   "source": [
    "!pip3 install afinn"
   ]
  },
  {
   "cell_type": "markdown",
   "id": "75d976cc-7909-4c01-b4d3-f33e89f84a9e",
   "metadata": {},
   "source": [
    "<b>데이터 준비</b>"
   ]
  },
  {
   "cell_type": "code",
   "execution_count": 3,
   "id": "b95ee187-6462-45ac-a363-e40288f8d309",
   "metadata": {},
   "outputs": [],
   "source": [
    "from sklearn.datasets import fetch_20newsgroups"
   ]
  },
  {
   "cell_type": "code",
   "execution_count": 4,
   "id": "35ea2f56-8b5c-490f-b52a-ca0546c2d104",
   "metadata": {},
   "outputs": [
    {
     "data": {
      "text/plain": [
       "\"From: lerxst@wam.umd.edu (where's my thing)\\nSubject: WHAT car is this!?\\nNntp-Posting-Host: rac3.wam.umd.edu\\nOrganization: University of Maryland, College Park\\nLines: 15\\n\\n I was wondering if anyone out there could enlighten me on this car I saw\\nthe other day. It was a 2-door sports car, looked to be from the late 60s/\\nearly 70s. It was called a Bricklin. The doors were really small. In addition,\\nthe front bumper was separate from the rest of the body. This is \\nall I know. If anyone can tellme a model name, engine specs, years\\nof production, where this car is made, history, or whatever info you\\nhave on this funky looking car, please e-mail.\\n\\nThanks,\\n- IL\\n   ---- brought to you by your neighborhood Lerxst ----\\n\\n\\n\\n\\n\""
      ]
     },
     "execution_count": 4,
     "metadata": {},
     "output_type": "execute_result"
    }
   ],
   "source": [
    "newsdata = fetch_20newsgroups(subset = 'train')\n",
    "newsdata.data[0]"
   ]
  },
  {
   "cell_type": "markdown",
   "id": "0aae21f7-19fe-481a-bf0c-5dbfee9008bb",
   "metadata": {},
   "source": [
    "<b>감정 상태 분류 및 시각화</b>"
   ]
  },
  {
   "cell_type": "code",
   "execution_count": 6,
   "id": "bab6facc-86df-4f7a-8016-de3c4c6d7c69",
   "metadata": {},
   "outputs": [],
   "source": [
    "from afinn import Afinn"
   ]
  },
  {
   "cell_type": "code",
   "execution_count": 8,
   "id": "c5f18255-e6da-4e84-857e-78c74663e2b8",
   "metadata": {},
   "outputs": [
    {
     "name": "stdout",
     "output_type": "stream",
     "text": [
      "7.0\n",
      "11.0\n",
      "16.0\n",
      "5.0\n",
      "-23.0\n",
      "-25.0\n",
      "7.0\n",
      "3.0\n",
      "16.0\n",
      "-20.0\n"
     ]
    }
   ],
   "source": [
    "afinn = Afinn()\n",
    "for i in range(10):\n",
    "    print(afinn.score(newsdata.data[i]))"
   ]
  },
  {
   "cell_type": "code",
   "execution_count": 9,
   "id": "e503a7f8-b3e7-4882-b8b0-3e88acbe787d",
   "metadata": {},
   "outputs": [],
   "source": [
    "import numpy as np\n",
    "import matplotlib.pyplot as plt\n",
    "plt.style.use('seaborn-white')"
   ]
  },
  {
   "cell_type": "code",
   "execution_count": 16,
   "id": "a5376914-e540-47e5-ae5b-7ed73cc9f852",
   "metadata": {},
   "outputs": [],
   "source": [
    "positive = 0\n",
    "neutral = 0\n",
    "negative = 0\n",
    "\n",
    "for i in newsdata.data:\n",
    "    score = afinn.score(i)\n",
    "    if score > 0:\n",
    "        positive += 1\n",
    "    elif score == 0:\n",
    "        neutral += 1\n",
    "    else:\n",
    "        negative += 1"
   ]
  },
  {
   "cell_type": "code",
   "execution_count": 14,
   "id": "21661f04-1f6d-41b4-9659-6dacd8e275a2",
   "metadata": {},
   "outputs": [
    {
     "data": {
      "image/png": "[encoded data removed]",
      "text/plain": [
       "<Figure size 432x288 with 1 Axes>"
      ]
     },
     "metadata": {},
     "output_type": "display_data"
    }
   ],
   "source": [
    "plt.bar(np.arange(3), [positive, neutral, negative])\n",
    "plt.xticks(np.arange(3), ['positive', 'neutral', 'negative'])\n",
    "plt.show()"
   ]
  },
  {
   "cell_type": "markdown",
   "id": "0ca04a24-5b97-46a8-ad5a-76551c5c9042",
   "metadata": {},
   "source": [
    "<b>한국어 자연어 처리 konlpy와 형태소 분석기 Mecab 설치</b>"
   ]
  },
  {
   "cell_type": "code",
   "execution_count": null,
   "id": "c594dfc3-6d8b-4cd9-a26f-a78a8a42b7f6",
   "metadata": {},
   "outputs": [],
   "source": [
    "!set -x \\\n",
    "&& pip3 install konlpy \\\n",
    "&& curl -s https://raw.githubusercontent.com/konlpy/konlpy/master/scripts/mecab.sh | bash -x\n",
    "    \n",
    "bash <(curl -s https://raw.githubusercontent.com/konlpy/konlpy/master/scripts/mecab.sh)"
   ]
  },
  {
   "cell_type": "code",
   "execution_count": 17,
   "id": "b768a964-a82b-4f51-9c0f-23590cd6c120",
   "metadata": {},
   "outputs": [],
   "source": [
    "import re\n",
    "import urllib.request\n",
    "import numpy as np\n",
    "import pandas as pd\n",
    "import matplotlib.pyplot as plt\n",
    "plt.style.use('seaborn-white')\n",
    "\n",
    "from konlpy.tag import Mecab\n",
    "from tensorflow.keras.preprocessing.text import Tokenizer\n",
    "from tensorflow.keras.preprocessing.sequence import pad_sequences"
   ]
  },
  {
   "cell_type": "markdown",
   "id": "e0aafd43-75c3-4062-afdd-e1e943853d2d",
   "metadata": {},
   "source": [
    "<b>네이버 영화 리뷰 데이터</b>"
   ]
  },
  {
   "cell_type": "code",
   "execution_count": 21,
   "id": "56c9fed6-a392-49b9-88d0-50e3ea5eeb20",
   "metadata": {},
   "outputs": [
    {
     "data": {
      "text/html": [
       "<div>\n",
       "<style scoped>\n",
       "    .dataframe tbody tr th:only-of-type {\n",
       "        vertical-align: middle;\n",
       "    }\n",
       "\n",
       "    .dataframe tbody tr th {\n",
       "        vertical-align: top;\n",
       "    }\n",
       "\n",
       "    .dataframe thead th {\n",
       "        text-align: right;\n",
       "    }\n",
       "</style>\n",
       "<table border=\"1\" class=\"dataframe\">\n",
       "  <thead>\n",
       "    <tr style=\"text-align: right;\">\n",
       "      <th></th>\n",
       "      <th>id</th>\n",
       "      <th>document</th>\n",
       "      <th>label</th>\n",
       "    </tr>\n",
       "  </thead>\n",
       "  <tbody>\n",
       "    <tr>\n",
       "      <th>0</th>\n",
       "      <td>9976970</td>\n",
       "      <td>아 더빙.. 진짜 짜증나네요 목소리</td>\n",
       "      <td>0</td>\n",
       "    </tr>\n",
       "    <tr>\n",
       "      <th>1</th>\n",
       "      <td>3819312</td>\n",
       "      <td>흠...포스터보고 초딩영화줄....오버연기조차 가볍지 않구나</td>\n",
       "      <td>1</td>\n",
       "    </tr>\n",
       "    <tr>\n",
       "      <th>2</th>\n",
       "      <td>10265843</td>\n",
       "      <td>너무재밓었다그래서보는것을추천한다</td>\n",
       "      <td>0</td>\n",
       "    </tr>\n",
       "    <tr>\n",
       "      <th>3</th>\n",
       "      <td>9045019</td>\n",
       "      <td>교도소 이야기구먼 ..솔직히 재미는 없다..평점 조정</td>\n",
       "      <td>0</td>\n",
       "    </tr>\n",
       "    <tr>\n",
       "      <th>4</th>\n",
       "      <td>6483659</td>\n",
       "      <td>사이몬페그의 익살스런 연기가 돋보였던 영화!스파이더맨에서 늙어보이기만 했던 커스틴 ...</td>\n",
       "      <td>1</td>\n",
       "    </tr>\n",
       "    <tr>\n",
       "      <th>5</th>\n",
       "      <td>5403919</td>\n",
       "      <td>막 걸음마 뗀 3세부터 초등학교 1학년생인 8살용영화.ㅋㅋㅋ...별반개도 아까움.</td>\n",
       "      <td>0</td>\n",
       "    </tr>\n",
       "    <tr>\n",
       "      <th>6</th>\n",
       "      <td>7797314</td>\n",
       "      <td>원작의 긴장감을 제대로 살려내지못했다.</td>\n",
       "      <td>0</td>\n",
       "    </tr>\n",
       "    <tr>\n",
       "      <th>7</th>\n",
       "      <td>9443947</td>\n",
       "      <td>별 반개도 아깝다 욕나온다 이응경 길용우 연기생활이몇년인지..정말 발로해도 그것보단...</td>\n",
       "      <td>0</td>\n",
       "    </tr>\n",
       "    <tr>\n",
       "      <th>8</th>\n",
       "      <td>7156791</td>\n",
       "      <td>액션이 없는데도 재미 있는 몇안되는 영화</td>\n",
       "      <td>1</td>\n",
       "    </tr>\n",
       "    <tr>\n",
       "      <th>9</th>\n",
       "      <td>5912145</td>\n",
       "      <td>왜케 평점이 낮은건데? 꽤 볼만한데.. 헐리우드식 화려함에만 너무 길들여져 있나?</td>\n",
       "      <td>1</td>\n",
       "    </tr>\n",
       "  </tbody>\n",
       "</table>\n",
       "</div>"
      ],
      "text/plain": [
       "         id                                           document  label\n",
       "0   9976970                                아 더빙.. 진짜 짜증나네요 목소리      0\n",
       "1   3819312                  흠...포스터보고 초딩영화줄....오버연기조차 가볍지 않구나      1\n",
       "2  10265843                                  너무재밓었다그래서보는것을추천한다      0\n",
       "3   9045019                      교도소 이야기구먼 ..솔직히 재미는 없다..평점 조정      0\n",
       "4   6483659  사이몬페그의 익살스런 연기가 돋보였던 영화!스파이더맨에서 늙어보이기만 했던 커스틴 ...      1\n",
       "5   5403919      막 걸음마 뗀 3세부터 초등학교 1학년생인 8살용영화.ㅋㅋㅋ...별반개도 아까움.      0\n",
       "6   7797314                              원작의 긴장감을 제대로 살려내지못했다.      0\n",
       "7   9443947  별 반개도 아깝다 욕나온다 이응경 길용우 연기생활이몇년인지..정말 발로해도 그것보단...      0\n",
       "8   7156791                             액션이 없는데도 재미 있는 몇안되는 영화      1\n",
       "9   5912145      왜케 평점이 낮은건데? 꽤 볼만한데.. 헐리우드식 화려함에만 너무 길들여져 있나?      1"
      ]
     },
     "execution_count": 21,
     "metadata": {},
     "output_type": "execute_result"
    }
   ],
   "source": [
    "train_file = urllib.request.urlopen('https://raw.githubusercontent.com/e9t/nsmc/master/ratings_train.txt')\n",
    "test_file = urllib.request.urlopen('https://raw.githubusercontent.com/e9t/nsmc/master/ratings_test.txt')\n",
    "\n",
    "train_data = pd.read_table(train_file)\n",
    "test_data = pd.read_table(test_file)\n",
    "\n",
    "train_data[:10]"
   ]
  },
  {
   "cell_type": "markdown",
   "id": "d07e82e0-330c-42f1-921b-280ed2e3c73a",
   "metadata": {},
   "source": [
    "<b>중복 및 결측치 처리</b>"
   ]
  },
  {
   "cell_type": "code",
   "execution_count": 23,
   "id": "ca9c9414-93b5-4908-8a0e-46c99a14540b",
   "metadata": {},
   "outputs": [
    {
     "name": "stdout",
     "output_type": "stream",
     "text": [
      "146182\n",
      "2\n"
     ]
    }
   ],
   "source": [
    "print(train_data['document'].nunique())\n",
    "print(train_data['label'].nunique())"
   ]
  },
  {
   "cell_type": "code",
   "execution_count": 24,
   "id": "05ada94f-5b5d-48fb-9350-83574a04036b",
   "metadata": {},
   "outputs": [
    {
     "name": "stdout",
     "output_type": "stream",
     "text": [
      "id          0\n",
      "document    1\n",
      "label       0\n",
      "dtype: int64\n"
     ]
    }
   ],
   "source": [
    "train_data.drop_duplicates(subset = ['document'], inplace = True)\n",
    "\n",
    "print(train_data.isnull().sum())"
   ]
  },
  {
   "cell_type": "code",
   "execution_count": 25,
   "id": "da406d53-2a87-4314-a3c3-67d2384f3d00",
   "metadata": {},
   "outputs": [],
   "source": [
    "train_data = train_data.dropna(how='any')"
   ]
  },
  {
   "cell_type": "markdown",
   "id": "aefc6c52-76fa-481a-966f-8d820aa787ff",
   "metadata": {},
   "source": [
    "<b>데이터 정제 - 한글과 공백 제외하고 모두 제거</b>"
   ]
  },
  {
   "cell_type": "code",
   "execution_count": 26,
   "id": "0bee8752-d6f8-4386-8a6f-384e6de4e6cb",
   "metadata": {},
   "outputs": [
    {
     "name": "stderr",
     "output_type": "stream",
     "text": [
      "<ipython-input-26-1d0449262d26>:1: FutureWarning: The default value of regex will change from True to False in a future version.\n",
      "  train_data['document'] = train_data['document'].str.replace(\"[^ㄱ-ㅎㅏ-ㅣ가-힣]\", \"\")\n"
     ]
    },
    {
     "data": {
      "text/html": [
       "<div>\n",
       "<style scoped>\n",
       "    .dataframe tbody tr th:only-of-type {\n",
       "        vertical-align: middle;\n",
       "    }\n",
       "\n",
       "    .dataframe tbody tr th {\n",
       "        vertical-align: top;\n",
       "    }\n",
       "\n",
       "    .dataframe thead th {\n",
       "        text-align: right;\n",
       "    }\n",
       "</style>\n",
       "<table border=\"1\" class=\"dataframe\">\n",
       "  <thead>\n",
       "    <tr style=\"text-align: right;\">\n",
       "      <th></th>\n",
       "      <th>id</th>\n",
       "      <th>document</th>\n",
       "      <th>label</th>\n",
       "    </tr>\n",
       "  </thead>\n",
       "  <tbody>\n",
       "    <tr>\n",
       "      <th>0</th>\n",
       "      <td>9976970</td>\n",
       "      <td>아더빙진짜짜증나네요목소리</td>\n",
       "      <td>0</td>\n",
       "    </tr>\n",
       "    <tr>\n",
       "      <th>1</th>\n",
       "      <td>3819312</td>\n",
       "      <td>흠포스터보고초딩영화줄오버연기조차가볍지않구나</td>\n",
       "      <td>1</td>\n",
       "    </tr>\n",
       "    <tr>\n",
       "      <th>2</th>\n",
       "      <td>10265843</td>\n",
       "      <td>너무재밓었다그래서보는것을추천한다</td>\n",
       "      <td>0</td>\n",
       "    </tr>\n",
       "    <tr>\n",
       "      <th>3</th>\n",
       "      <td>9045019</td>\n",
       "      <td>교도소이야기구먼솔직히재미는없다평점조정</td>\n",
       "      <td>0</td>\n",
       "    </tr>\n",
       "    <tr>\n",
       "      <th>4</th>\n",
       "      <td>6483659</td>\n",
       "      <td>사이몬페그의익살스런연기가돋보였던영화스파이더맨에서늙어보이기만했던커스틴던스트가너무나도이...</td>\n",
       "      <td>1</td>\n",
       "    </tr>\n",
       "    <tr>\n",
       "      <th>5</th>\n",
       "      <td>5403919</td>\n",
       "      <td>막걸음마뗀세부터초등학교학년생인살용영화ㅋㅋㅋ별반개도아까움</td>\n",
       "      <td>0</td>\n",
       "    </tr>\n",
       "    <tr>\n",
       "      <th>6</th>\n",
       "      <td>7797314</td>\n",
       "      <td>원작의긴장감을제대로살려내지못했다</td>\n",
       "      <td>0</td>\n",
       "    </tr>\n",
       "    <tr>\n",
       "      <th>7</th>\n",
       "      <td>9443947</td>\n",
       "      <td>별반개도아깝다욕나온다이응경길용우연기생활이몇년인지정말발로해도그것보단낫겟다납치감금만반복...</td>\n",
       "      <td>0</td>\n",
       "    </tr>\n",
       "    <tr>\n",
       "      <th>8</th>\n",
       "      <td>7156791</td>\n",
       "      <td>액션이없는데도재미있는몇안되는영화</td>\n",
       "      <td>1</td>\n",
       "    </tr>\n",
       "    <tr>\n",
       "      <th>9</th>\n",
       "      <td>5912145</td>\n",
       "      <td>왜케평점이낮은건데꽤볼만한데헐리우드식화려함에만너무길들여져있나</td>\n",
       "      <td>1</td>\n",
       "    </tr>\n",
       "  </tbody>\n",
       "</table>\n",
       "</div>"
      ],
      "text/plain": [
       "         id                                           document  label\n",
       "0   9976970                                      아더빙진짜짜증나네요목소리      0\n",
       "1   3819312                            흠포스터보고초딩영화줄오버연기조차가볍지않구나      1\n",
       "2  10265843                                  너무재밓었다그래서보는것을추천한다      0\n",
       "3   9045019                               교도소이야기구먼솔직히재미는없다평점조정      0\n",
       "4   6483659  사이몬페그의익살스런연기가돋보였던영화스파이더맨에서늙어보이기만했던커스틴던스트가너무나도이...      1\n",
       "5   5403919                     막걸음마뗀세부터초등학교학년생인살용영화ㅋㅋㅋ별반개도아까움      0\n",
       "6   7797314                                  원작의긴장감을제대로살려내지못했다      0\n",
       "7   9443947  별반개도아깝다욕나온다이응경길용우연기생활이몇년인지정말발로해도그것보단낫겟다납치감금만반복...      0\n",
       "8   7156791                                  액션이없는데도재미있는몇안되는영화      1\n",
       "9   5912145                   왜케평점이낮은건데꽤볼만한데헐리우드식화려함에만너무길들여져있나      1"
      ]
     },
     "execution_count": 26,
     "metadata": {},
     "output_type": "execute_result"
    }
   ],
   "source": [
    "train_data['document'] = train_data['document'].str.replace(\"[^ㄱ-ㅎㅏ-ㅣ가-힣]\", \"\")\n",
    "train_data[:10]"
   ]
  },
  {
   "cell_type": "code",
   "execution_count": 27,
   "id": "8a547909-57c5-43ea-9b99-5347809b02fc",
   "metadata": {},
   "outputs": [
    {
     "name": "stdout",
     "output_type": "stream",
     "text": [
      "146182\n",
      "id            0\n",
      "document    789\n",
      "label         0\n",
      "dtype: int64\n"
     ]
    }
   ],
   "source": [
    "train_data['document'].replace('', np.nan, inplace = True)\n",
    "print(len(train_data))\n",
    "print(train_data.isnull().sum())"
   ]
  },
  {
   "cell_type": "code",
   "execution_count": 28,
   "id": "b91b837b-6c5b-4cdb-8b3d-66d556a36b3d",
   "metadata": {},
   "outputs": [
    {
     "name": "stdout",
     "output_type": "stream",
     "text": [
      "145393\n"
     ]
    }
   ],
   "source": [
    "train_data = train_data.dropna(how='any')\n",
    "print(len(train_data))"
   ]
  },
  {
   "cell_type": "code",
   "execution_count": 29,
   "id": "8ea22548-e92f-4f0e-a98d-0f707652395c",
   "metadata": {},
   "outputs": [
    {
     "name": "stderr",
     "output_type": "stream",
     "text": [
      "<ipython-input-29-a35776ffc6f4>:2: FutureWarning: The default value of regex will change from True to False in a future version.\n",
      "  test_data['document'] = test_data['document'].str.replace(\"[^ㄱ-ㅎㅏ-ㅣ가-힣]\", \"\")\n"
     ]
    }
   ],
   "source": [
    "test_data.drop_duplicates(subset = ['document'], inplace = True)\n",
    "test_data['document'] = test_data['document'].str.replace(\"[^ㄱ-ㅎㅏ-ㅣ가-힣]\", \"\")\n",
    "test_data['document'].replace('', np.nan, inplace = True)\n",
    "test_data = test_data.dropna(how='any')"
   ]
  },
  {
   "cell_type": "markdown",
   "id": "7d093332-4d0b-4e43-bf15-49ec2dfedc18",
   "metadata": {},
   "source": [
    "<b>토큰화 및 불용어 제거</b>"
   ]
  },
  {
   "cell_type": "code",
   "execution_count": 30,
   "id": "04fc500a-d6ac-4aa6-a3c5-9f2d8a831b2b",
   "metadata": {},
   "outputs": [],
   "source": [
    "stopwords = ['의', '가', '이', '은', '들', '는', '좀', '잘', '걍', '과', '도', '를', '으로', '자', '에', '와', '한', '하다']"
   ]
  },
  {
   "cell_type": "code",
   "execution_count": 6,
   "id": "8e4a9335-ab24-4d64-b867-26c88571b790",
   "metadata": {},
   "outputs": [],
   "source": [
    "from konlpy.tag import Mecab"
   ]
  },
  {
   "cell_type": "code",
   "execution_count": null,
   "id": "dae0a384-f360-464f-9e63-2c9e99947b56",
   "metadata": {},
   "outputs": [],
   "source": [
    "mecab = Mecab()"
   ]
  },
  {
   "cell_type": "code",
   "execution_count": null,
   "id": "4a7e3e27-215f-4668-8a7b-2b07021d2476",
   "metadata": {},
   "outputs": [],
   "source": [
    "mecab = Mecab()\n",
    "\n",
    "x_train = []\n",
    "for sentence in train_data['document']:\n",
    "    x_train.append([word for word in mecab.morphs(sentence) if not word in stopwords])"
   ]
  },
  {
   "cell_type": "code",
   "execution_count": null,
   "id": "c6a67027-e8e1-4176-81cc-049a513e0991",
   "metadata": {},
   "outputs": [],
   "source": [
    "x_test = []\n",
    "for sentence in test_data['document']:\n",
    "    x_test.append([word for word in mecab.morphs(sentence) if nor word in stopwords])"
   ]
  },
  {
   "cell_type": "code",
   "execution_count": null,
   "id": "30829f1c-af18-49f8-a137-01b22f6450c2",
   "metadata": {},
   "outputs": [],
   "source": [
    "tokenizer = Tokenizer()\n",
    "tokenizer.fit_on_texts(x_train)\n",
    "print(tokenizer.word_index)"
   ]
  },
  {
   "cell_type": "markdown",
   "id": "4debf0b7-9ad4-460e-aada-828ddf990094",
   "metadata": {},
   "source": [
    "<b>빈도 수가 낮은 단어 제거</b>"
   ]
  },
  {
   "cell_type": "code",
   "execution_count": null,
   "id": "f2a3c288-8dcf-43cc-a59e-f582146ab3bd",
   "metadata": {},
   "outputs": [],
   "source": [
    "thredshold = 3\n",
    "words_cnt = len(tokenizer.word_index)\n",
    "rare_cnt = 0\n",
    "words_freq = 0\n",
    "rare_freq = 0\n",
    "\n",
    "for key, valye in tokenizer.word_counts.items():\n",
    "    words_freq = words_freq + value\n",
    "    \n",
    "    if value < threshold:\n",
    "        rare_cnt += 1\n",
    "        rare_freq = rare_freq + value\n",
    "        \n",
    "print(\"전체 단어 수:\", words_cnt)\n",
    "print(\"빈도가 {} 이하인 희귀 단어 수: {}\".format(threshold-1, rare_cnt))\n",
    "print(\"희귀 단어 비율: {}\".format((rare_cnt / words_cnt)*100))\n",
    "print(\"희귀 단어 등장 빈도 비율: {}\".format((rare_freq)))"
   ]
  },
  {
   "cell_type": "code",
   "execution_count": null,
   "id": "d8d58edc-e770-49e5-b784-67240b91b859",
   "metadata": {},
   "outputs": [],
   "source": [
    "vocab_size = words_cnt - rare_cnt + 2\n",
    "print(vocab_size)"
   ]
  },
  {
   "cell_type": "code",
   "execution_count": null,
   "id": "71403983-dfc1-46ec-be7b-1dc3f0ed0a6f",
   "metadata": {},
   "outputs": [],
   "source": [
    "tokenizer = Tokenizer(vocab_size, oov_token = 'OOV')\n",
    "tokenizer.fit_on_texts(x_train)\n",
    "x_train = tokenizer.texts_to_sequences(x_train)\n",
    "x_test = tokenizer.texts_to_sequences(x_test)"
   ]
  },
  {
   "cell_type": "code",
   "execution_count": null,
   "id": "a6e64597-c646-42ac-bbb7-288f8255d59c",
   "metadata": {},
   "outputs": [],
   "source": [
    "y_train = np.array(train_data['label'])\n",
    "y_test = np.array(test_data['label'])"
   ]
  },
  {
   "cell_type": "code",
   "execution_count": null,
   "id": "73dcd841-647b-4239-a8f8-b04f9759c2d9",
   "metadata": {},
   "outputs": [],
   "source": [
    "drop_train = [index for index, sentence in enumerate(x_train) if len(sentence) < 1]\n",
    "\n",
    "x_train = np.delete(x_train, drop_train, axis = 0)\n",
    "y_train = np.delete(y_train, drop_train, axis = 0)\n",
    "\n",
    "print(len(x_train))\n",
    "print(len(y_train))"
   ]
  },
  {
   "cell_type": "markdown",
   "id": "b75b4715-9d83-4cf8-a036-5613043a1beb",
   "metadata": {},
   "source": [
    "<b>패딩 - 리뷰 전반적인 길이를 확인, 모델 입력을 위해 동일한 길이로 맞춰줌</b>"
   ]
  },
  {
   "cell_type": "code",
   "execution_count": null,
   "id": "a5b73af0-60cc-40e1-a7de-2c73b8a6623c",
   "metadata": {},
   "outputs": [],
   "source": [
    "print('리뷰 최대 길이: ', max(len(l) for l in x_train))\n",
    "print('리뷰 평균 길이: ', sum(map(len, x_train) / len(x_train)))"
   ]
  },
  {
   "cell_type": "code",
   "execution_count": null,
   "id": "2407c1e9-3ef7-4e7c-96c9-09f933f97ae4",
   "metadata": {},
   "outputs": [],
   "source": [
    "plt.hist([len(s) for s in x_train], bins = 50)\n",
    "plt.xlabel('Length of Samples')\n",
    "plt.ylabel('Number of Samples')\n",
    "plt.show()"
   ]
  },
  {
   "cell_type": "code",
   "execution_count": null,
   "id": "a76c4cac-39d1-4521-8923-a5605e2618ae",
   "metadata": {},
   "outputs": [],
   "source": [
    "max_len = 60\n",
    "\n",
    "x_train = pad_sequences(x_train, maxlen = max_len)\n",
    "x_test = pad_sequences(x_test, maxlen = max_len)"
   ]
  },
  {
   "cell_type": "markdown",
   "id": "ea8e12ff-9002-4f12-ae45-1436b7df7d49",
   "metadata": {},
   "source": [
    "<b>모델 구축 및 학습</b>"
   ]
  },
  {
   "cell_type": "code",
   "execution_count": null,
   "id": "825edee9-e3fe-4e3d-a771-b473916e9ad2",
   "metadata": {},
   "outputs": [],
   "source": [
    "from tensorflow.keras.layers import Embedding, Dense, LSTM\n",
    "from tensorflow.keras.models import Sequential"
   ]
  },
  {
   "cell_type": "code",
   "execution_count": null,
   "id": "3813994d-d4aa-4e1e-955c-ed987d8ac09d",
   "metadata": {},
   "outputs": [],
   "source": [
    "model = Sequential()\n",
    "model.add(Embedding(vocab_size, 100))\n",
    "model.add(LSTM(128))\n",
    "model.add(Dense(1, activation = 'sigmoid'))\n",
    "\n",
    "model.compile(optimizer = 'rmsprop',\n",
    "             loss = 'binary_crossentropy',\n",
    "             metrics = ['acc'])\n",
    "model.summary()"
   ]
  },
  {
   "cell_type": "code",
   "execution_count": null,
   "id": "0a39cafc-0050-4b9a-8aa7-4e514ae82bb8",
   "metadata": {},
   "outputs": [],
   "source": [
    "history = model.fit(x_train, y_train, epochs = 15, batch_size = 60, validation_split = 0.2)"
   ]
  },
  {
   "cell_type": "markdown",
   "id": "1a7d99a2-33d6-42f7-91e2-29711a4d3671",
   "metadata": {},
   "source": [
    "<b>시각화</b>"
   ]
  },
  {
   "cell_type": "code",
   "execution_count": null,
   "id": "b8a0b3a1-6a08-430d-9e2d-20c1f2f008d8",
   "metadata": {},
   "outputs": [],
   "source": [
    "hist_dict = history.history\n",
    "loss = hist_dict['loss']\n",
    "val_loss = hist.dict['val_loss']\n",
    "acc = hist.dict['acc']\n",
    "val_acc = hist.dict['val_acc']\n",
    "\n",
    "plt.plot(loss, 'b--', label = 'training loss')\n",
    "plt.plot(val_loss, 'r:', label = 'validation loss')\n",
    "plt.legend()\n",
    "plt.grid()\n",
    "\n",
    "plt.figure()\n",
    "plt.plot(acc, 'b--', label = 'training accuracy')\n",
    "plt.plot(val_acc, 'r:', label = 'validation accuracy')\n",
    "plt.legend()\n",
    "plt.grid()\n",
    "\n",
    "plt.show()"
   ]
  },
  {
   "cell_type": "markdown",
   "id": "f9124052-a67b-4ef2-ab2d-23296febec69",
   "metadata": {},
   "source": [
    "<b>감정 예측</b>"
   ]
  },
  {
   "cell_type": "code",
   "execution_count": null,
   "id": "45c7c4ce-be8a-4c0c-8387-e39bdf087ea4",
   "metadata": {},
   "outputs": [],
   "source": [
    "def sentiment_predict(new_sentence):\n",
    "    new_token = [word for word in mecab.morphs(new_sentence) if not word in stopwords]\n",
    "    new_sequences = tokenizer.texts_to_sequences([new_token])\n",
    "    new_pad = pad_sequences(new_sequences, maxlen = max_len)\n",
    "    score = float(model.predict(new_pad))\n",
    "    \n",
    "    if score > 0.5:\n",
    "        print(\"{} -> 긍정({:.2f}%)\".format(new_sentence, score * 100))\n",
    "    else:\n",
    "        print(\"{} -> 부정({:.2f}%)\".format(new_sentence, (1 - score) * 100))"
   ]
  },
  {
   "cell_type": "code",
   "execution_count": null,
   "id": "2299ba67-6f0c-49b0-a5b8-a71b0dfc7fde",
   "metadata": {},
   "outputs": [],
   "source": [
    "sentiment_predict('정말 재미있고 흥미진진 했어요.')\n",
    "sentiment_predict('어떻게 이렇게 지루하고 재미없죠?')\n",
    "sentiment_predict('배우 연기력이 대박입니다.')\n",
    "sentiment_predict('분위기가 어둡고 스토리가 복잡해요.')"
   ]
  },
  {
   "cell_type": "markdown",
   "id": "c0f16765-29ea-4066-8d61-35115797ec09",
   "metadata": {},
   "source": [
    "<h2>네이버 쇼핑 리뷰 데이터</h2>"
   ]
  },
  {
   "cell_type": "code",
   "execution_count": null,
   "id": "00a709fe-ff19-43d9-a02e-67a5d7ca563a",
   "metadata": {},
   "outputs": [],
   "source": [
    "urllib.request.urlretrive('https://raw.githubusercontent.com/bab2min/corpus/master/sentiment/naver_shopping.txt', filename = 'shopping.txt')"
   ]
  },
  {
   "cell_type": "code",
   "execution_count": null,
   "id": "65d8bc58-2b2f-47a6-aa41-dffea57988e7",
   "metadata": {},
   "outputs": [],
   "source": [
    "total_data = pd.read_table('shopping.txt', names = ['ratings', 'reviews'])\n",
    "print(len(total_data))"
   ]
  },
  {
   "cell_type": "markdown",
   "id": "cb4cb08e-3069-4ac4-a1fb-ec909cb212ac",
   "metadata": {},
   "source": [
    "<b>Train data vs Test data</b>"
   ]
  },
  {
   "cell_type": "code",
   "execution_count": null,
   "id": "cf29a383-5ddf-42bb-b891-f076ddf29d49",
   "metadata": {},
   "outputs": [],
   "source": [
    "total_data['label'] = np.select([total_data.ratings > 3], [1], default = 0)"
   ]
  },
  {
   "cell_type": "code",
   "execution_count": null,
   "id": "a9dafbfc-f86b-4012-b079-1af121f2335a",
   "metadata": {},
   "outputs": [],
   "source": [
    "total_data['ratings'].unique(), total_data['reviews'].nunique(), total_data['label'].nunique()"
   ]
  },
  {
   "cell_type": "code",
   "execution_count": null,
   "id": "fa09b0a7-7e92-4f28-9e91-e9f88a85ae06",
   "metadata": {},
   "outputs": [],
   "source": [
    "total_data.drop_duplicates(subset = ['reviews'], inplace = True)\n",
    "print(len(total_data))"
   ]
  },
  {
   "cell_type": "code",
   "execution_count": null,
   "id": "9184ef53-82d3-4ed0-9cbd-29f5a7efe443",
   "metadata": {},
   "outputs": [],
   "source": [
    "from sklearn.model_selection import train_test_split\n",
    "\n",
    "train_data, test_data = train_test_split(total_data, test_size = 0.25, random_state = 111)\n",
    "print(len(train_data))\n",
    "print(len(test_data))"
   ]
  },
  {
   "cell_type": "markdown",
   "id": "fc8a2bdb-debd-4171-8dc2-7d707f079b8f",
   "metadata": {},
   "source": [
    "<b>레이블 분포 확인</b>"
   ]
  },
  {
   "cell_type": "code",
   "execution_count": null,
   "id": "d088bd48-1b98-4737-8100-dd4e914784ed",
   "metadata": {},
   "outputs": [],
   "source": [
    "train_data['label'].value_counts().plot(kind='bar')"
   ]
  },
  {
   "cell_type": "code",
   "execution_count": null,
   "id": "b56974b8-60f5-4062-b86c-4cb541aa1504",
   "metadata": {},
   "outputs": [],
   "source": [
    "train_data.groupby('label').size().reset_index(name = 'count')"
   ]
  },
  {
   "cell_type": "markdown",
   "id": "ea0eb7a6-27a6-47b0-b10d-caf9f3c88845",
   "metadata": {},
   "source": [
    "<b>데이터 정제</b>"
   ]
  },
  {
   "cell_type": "code",
   "execution_count": null,
   "id": "10b5f5e3-0e11-45ec-80a7-2082492fce5a",
   "metadata": {},
   "outputs": [],
   "source": [
    "train_data['reviews'] = train_data['reviews'].str.replace(\"^[ㄱ-ㅎㅏ-ㅣ가-힣 ]\", \"\")\n",
    "train_data['reviews'].replace('', np.nan, inplace = True)\n",
    "print(len(train_data))"
   ]
  },
  {
   "cell_type": "code",
   "execution_count": null,
   "id": "01ca6303-f36f-4941-a739-9350d5a5065d",
   "metadata": {},
   "outputs": [],
   "source": [
    "test_data.drop_duplicates(subset = ['reviews'], inplace = True)\n",
    "test_data['reviews'] = test_data['reviews'].str.replace(\"^[ㄱ-ㅎㅏ-ㅣ가-힣 ]\", \"\")\n",
    "test_data['reviews'].replace('', np.nan, inplace = True)\n",
    "print(len(test_data))"
   ]
  },
  {
   "cell_type": "markdown",
   "id": "16d341f1-e8a0-45d0-b024-2c43305befcb",
   "metadata": {},
   "source": [
    "<b>토큰화 및 불용어 제거</b>"
   ]
  },
  {
   "cell_type": "code",
   "execution_count": null,
   "id": "67393158-00f9-4388-bad3-df9cdd7a61ec",
   "metadata": {},
   "outputs": [],
   "source": [
    "stopwords = ['도', '는', '다','의','가','이','은','한','에','하','고','을','를','인','듯','과','와','네','들','듯','지','임','게']"
   ]
  },
  {
   "cell_type": "code",
   "execution_count": null,
   "id": "15780d0f-980f-4844-9aff-10a7ed2e2413",
   "metadata": {},
   "outputs": [],
   "source": [
    "mecab = Mecab()\n",
    "\n",
    "train_data['reviews'] = train_data['reviews'].apply(mecab.morphs)\n",
    "train_data['reviews'] = train_data['reviews'].apply(lambda x: [item for item in x if item not in stopwords])"
   ]
  },
  {
   "cell_type": "code",
   "execution_count": null,
   "id": "4d47bf01-09d3-4d11-9be2-70b68e5ad442",
   "metadata": {},
   "outputs": [],
   "source": [
    "test_data['reviews'] = test_data['reviews'].apply(mecab.morphs)\n",
    "test_data['reviews'] = test_data['reviews'].apply(lambda x: [item for item in x if item not in stopwords])"
   ]
  },
  {
   "cell_type": "code",
   "execution_count": null,
   "id": "2d7c2161-91fc-4a0a-bdf5-329ea865ba56",
   "metadata": {},
   "outputs": [],
   "source": [
    "x_train = train_data['reviews'].values\n",
    "y_train = train_data['label'].values\n",
    "x_test = test_data['reviews'].values\n",
    "x_test = test_data['label'].values\n",
    "\n",
    "print(x_train.shape)\n",
    "print(y_train.shape)\n",
    "print(x_test.shape)\n",
    "print(y_testn.shape)"
   ]
  },
  {
   "cell_type": "markdown",
   "id": "0967e53a-4370-41a9-b5e8-670f696bedaf",
   "metadata": {},
   "source": [
    "<b>빈도수 낮은 단어 제거</b>"
   ]
  },
  {
   "cell_type": "code",
   "execution_count": null,
   "id": "7a90cf62-f207-40b6-9298-803a64f62369",
   "metadata": {},
   "outputs": [],
   "source": [
    "tokenizer = Tokenizer()\n",
    "tokenizer.fit_on_texts(x_train)"
   ]
  },
  {
   "cell_type": "code",
   "execution_count": null,
   "id": "0a326543-1884-449a-a6da-ff3b6e50cbe4",
   "metadata": {},
   "outputs": [],
   "source": [
    "thredshold = 3\n",
    "words_cnt = len(tokenizer.word_index)\n",
    "rare_cnt = 0\n",
    "words_freq = 0\n",
    "rare_freq = 0\n",
    "\n",
    "for key, valye in tokenizer.word_counts.items():\n",
    "    words_freq = words_freq + value\n",
    "    \n",
    "    if value < threshold:\n",
    "        rare_cnt += 1\n",
    "        rare_freq = rare_freq + value\n",
    "        \n",
    "print(\"전체 단어 수:\", words_cnt)\n",
    "print(\"빈도가 {} 이하인 희귀 단어 수: {}\".format(threshold-1, rare_cnt))\n",
    "print(\"희귀 단어 비율: {}\".format((rare_cnt / words_cnt)*100))\n",
    "print(\"희귀 단어 등장 빈도 비율: {}\".format((rare_freq)))"
   ]
  },
  {
   "cell_type": "code",
   "execution_count": null,
   "id": "f8906ad3-12ef-4be2-8c25-5e153409376b",
   "metadata": {},
   "outputs": [],
   "source": [
    "vocab_size = words_cnt - rare_cnt + 2\n",
    "print(vocab_size)"
   ]
  },
  {
   "cell_type": "code",
   "execution_count": null,
   "id": "c6da1210-3269-4376-8dd1-182dca69c094",
   "metadata": {},
   "outputs": [],
   "source": [
    "tokenizer = Tokenizer(vocab_size, oov_token = 'OOV')\n",
    "tokenizer.fit_on_texts(x_train)\n",
    "x_train = tokenizer.texts_to_sequences(x_train)\n",
    "x_test = tokenizer.texts_to_sequences(x_test)"
   ]
  },
  {
   "cell_type": "markdown",
   "id": "985e8a03-2f5e-4787-afa4-f61795a15835",
   "metadata": {},
   "source": [
    "<b>패딩</b>"
   ]
  },
  {
   "cell_type": "code",
   "execution_count": null,
   "id": "1c5b3b6d-e2ed-47eb-abc4-77f44ea6c2c0",
   "metadata": {},
   "outputs": [],
   "source": [
    "plt.hist([len(s) for s in x_train], bins = 50)\n",
    "plt.xlabel('Length of Samples')\n",
    "plt.ylabel('Number of Samples')\n",
    "plt.show()"
   ]
  },
  {
   "cell_type": "code",
   "execution_count": null,
   "id": "fdd89a0d-3201-4bcb-a32d-c003d7961dec",
   "metadata": {},
   "outputs": [],
   "source": [
    "max_len = 60\n",
    "\n",
    "x_train = pad_sequences(x_train, maxlen = max_len)\n",
    "x_test = pad_sequences(x_test, maxlen = max_len)"
   ]
  },
  {
   "cell_type": "code",
   "execution_count": null,
   "id": "0863bded-fb37-487d-98b2-562cf4fc1e55",
   "metadata": {},
   "outputs": [],
   "source": [
    "from tensorflow.keras.layers import Embedding, Dense, GRU\n",
    "from tensorflow.keras.models import Sequential, load_model\n",
    "from tensorflow.keras.collbacks import EarlyStopping, ModelCheckpoint"
   ]
  },
  {
   "cell_type": "code",
   "execution_count": null,
   "id": "dee0ab81-8e18-4e40-b531-1635103c509e",
   "metadata": {},
   "outputs": [],
   "source": [
    "model = Sequential()\n",
    "model.add(Embedding(vocab_size, 100))\n",
    "model.add(GRU(128))\n",
    "model.add(Dense(1, activation = 'sigmoid'))"
   ]
  },
  {
   "cell_type": "code",
   "execution_count": null,
   "id": "be69a2bc-be4c-4f35-8cd4-0b147cdfe516",
   "metadata": {},
   "outputs": [],
   "source": [
    "es = EarlyStopping(monitor = 'val_loss', mode = 'min', verbose = 1, patience = 4)\n",
    "mc = ModelCheckpoint('best_model.h5', monitor = 'val_acc', mode = 'max', verbose = 1, save_best_only = True)"
   ]
  },
  {
   "cell_type": "code",
   "execution_count": null,
   "id": "0c04efc6-c8c0-47b7-b8c0-d86f1e07b9bc",
   "metadata": {},
   "outputs": [],
   "source": [
    "model.compile(optimizer = 'rmsprop',\n",
    "             loss = 'binary_crossentropy',\n",
    "             metrics = ['acc'])\n",
    "history = model.fit(x_train, y_train, epochs = 15, callbacks = [es, mc], batch_size = 60, validation_split = 0.2)"
   ]
  },
  {
   "cell_type": "code",
   "execution_count": null,
   "id": "3e9daac7-ef90-40e9-891e-7320db5bb619",
   "metadata": {},
   "outputs": [],
   "source": [
    "loaded_model = load_model('best_model.h5')\n",
    "loaded_model.evaluate(x_test, y_test)"
   ]
  },
  {
   "cell_type": "markdown",
   "id": "e157898f-1337-4e3e-98db-ee0c45796ff4",
   "metadata": {},
   "source": [
    "<b>시각화</b>"
   ]
  },
  {
   "cell_type": "code",
   "execution_count": null,
   "id": "1ad4ea9a-7e02-41e3-b697-f79e991e1697",
   "metadata": {},
   "outputs": [],
   "source": [
    "hist_dict = history.history\n",
    "loss = hist_dict['loss']\n",
    "val_loss = hist.dict['val_loss']\n",
    "acc = hist.dict['acc']\n",
    "val_acc = hist.dict['val_acc']\n",
    "\n",
    "plt.plot(loss, 'b--', label = 'training loss')\n",
    "plt.plot(val_loss, 'r:', label = 'validation loss')\n",
    "plt.legend()\n",
    "plt.grid()\n",
    "\n",
    "plt.figure()\n",
    "plt.plot(acc, 'b--', label = 'training accuracy')\n",
    "plt.plot(val_acc, 'r:', label = 'validation accuracy')\n",
    "plt.legend()\n",
    "plt.grid()\n",
    "\n",
    "plt.show()"
   ]
  },
  {
   "cell_type": "markdown",
   "id": "490e6767-7fad-46f3-aa88-3f6a388ebef6",
   "metadata": {},
   "source": [
    "<b>감정 예측</b>"
   ]
  },
  {
   "cell_type": "code",
   "execution_count": null,
   "id": "ea98ba97-ea79-4c4f-b18a-d7644128d421",
   "metadata": {},
   "outputs": [],
   "source": [
    "def sentiment_predict(new_sentence):\n",
    "    new_token = [word for word in mecab.morphs(new_sentence) if not word in stopwords]\n",
    "    new_sequences = tokenizer.texts_to_sequences([new_token])\n",
    "    new_pad = pad_sequences(new_sequences, maxlen = max_len)\n",
    "    score = float(loaded_model.predict(new_pad))\n",
    "    \n",
    "    if score > 0.5:\n",
    "        print(\"{} -> 긍정({:.2f}%)\".format(new_sentence, score * 100))\n",
    "    else:\n",
    "        print(\"{} -> 부정({:.2f}%)\".format(new_sentence, (1 - score) * 100))"
   ]
  },
  {
   "cell_type": "code",
   "execution_count": null,
   "id": "0292d01d-a985-4c5d-980d-be14c4552b3f",
   "metadata": {},
   "outputs": [],
   "source": [
    "sentiment_predict('처음 써봤는데 대박 좋아요')\n",
    "sentiment_predict('원래 배송이 이렇게 늦나요?')\n",
    "sentiment_predict('좋은거 인정! 추가 구매 의향 있습니다.')\n",
    "sentiment_predict('이건 정말 리뷰 쓰는게 아깝네요')"
   ]
  }
 ],
 "metadata": {
  "kernelspec": {
   "display_name": "Python 3",
   "language": "python",
   "name": "python3"
  },
  "language_info": {
   "codemirror_mode": {
    "name": "ipython",
    "version": 3
   },
   "file_extension": ".py",
   "mimetype": "text/x-python",
   "name": "python",
   "nbconvert_exporter": "python",
   "pygments_lexer": "ipython3",
   "version": "3.9.5"
  }
 },
 "nbformat": 4,
 "nbformat_minor": 5
}
